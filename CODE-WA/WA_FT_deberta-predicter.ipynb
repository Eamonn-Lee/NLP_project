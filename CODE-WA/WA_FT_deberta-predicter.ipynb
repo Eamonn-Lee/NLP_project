{
 "cells": [
  {
   "cell_type": "code",
   "execution_count": 4,
   "metadata": {},
   "outputs": [],
   "source": [
    "from transformers import AutoTokenizer, AutoModelForSequenceClassification\n",
    "import torch\n",
    "import pandas as pd\n",
    "from tqdm import tqdm\n",
    "import numpy as np\n",
    "\n",
    "# 加载模型和 tokenizer\n",
    "model_path = \"./deberta-wa-classifier\"\n",
    "tokenizer = AutoTokenizer.from_pretrained(model_path)\n",
    "model = AutoModelForSequenceClassification.from_pretrained(model_path)\n",
    "model.eval()\n",
    "\n",
    "# 映射\n",
    "id2label = {0: \"Remote\", 1: \"OnSite\", 2: \"Hybrid\"}\n",
    "\n",
    "\n",
    "# 读取数据\n",
    "fp = \"../DATASETS/work_arrangements_development_set.csv\"\n",
    "tfp = \"../DATASETS/work_arrangements_test_set.csv\"\n",
    "df = pd.read_csv(fp)\n",
    "tdf = pd.read_csv(tfp)\n",
    "\n",
    "def predict_label(text):\n",
    "    inputs = tokenizer(text, return_tensors=\"pt\", truncation=True, padding=True, max_length=512)\n",
    "    with torch.no_grad():\n",
    "        logits = model(**inputs).logits\n",
    "        pred_id = torch.argmax(logits, dim=1).item()\n",
    "    return id2label[pred_id]\n",
    "\n",
    "\n",
    "\n"
   ]
  },
  {
   "cell_type": "code",
   "execution_count": 5,
   "metadata": {},
   "outputs": [
    {
     "name": "stdout",
     "output_type": "stream",
     "text": [
      "\n",
      "Accuracy: 34.34%\n"
     ]
    },
    {
     "data": {
      "text/plain": [
       "'\\nAccuracy: 100.00%\\n'"
      ]
     },
     "execution_count": 5,
     "metadata": {},
     "output_type": "execute_result"
    }
   ],
   "source": [
    "# 应用到 DataFrame\n",
    "df[\"predicted_WA\"] = df[\"job_ad\"].apply(predict_label)\n",
    "#Accuracy\n",
    "accuracy = np.mean(df['predicted_WA'] == df['y_true'])\n",
    "print(f\"\\nAccuracy: {accuracy:.2%}\")\n",
    "\n",
    "# print(\"\\nPrediction vs Ground Truth:\\n\")\n",
    "# for i, row in df.iterrows():\n",
    "#     predicted = row['predicted_WA']\n",
    "#     expected = row['y_true']\n",
    "#     if predicted != expected:\n",
    "#       print(f\"[{i}] ❌ Predicted: {predicted} | Expected: {expected}\")\n",
    "#     else:\n",
    "#         print(f\"[{i}] ✅ Matched:   {predicted}\")\n",
    "\n",
    "\n",
    "'''\n",
    "Accuracy: 100.00%\n",
    "'''"
   ]
  },
  {
   "cell_type": "code",
   "execution_count": 6,
   "metadata": {},
   "outputs": [
    {
     "name": "stdout",
     "output_type": "stream",
     "text": [
      "\n",
      "Accuracy: 26.26%\n"
     ]
    },
    {
     "data": {
      "text/plain": [
       "'\\nAccuracy: 61.62%\\n'"
      ]
     },
     "execution_count": 6,
     "metadata": {},
     "output_type": "execute_result"
    }
   ],
   "source": [
    "# 应用到 DataFrame\n",
    "tdf[\"predicted_WA\"] = tdf[\"job_ad\"].apply(predict_label)\n",
    "#Accuracy\n",
    "accuracy = np.mean(tdf['predicted_WA'] == tdf['y_true'])\n",
    "print(f\"\\nAccuracy: {accuracy:.2%}\")\n",
    "\n",
    "# print(\"\\nPrediction vs Ground Truth:\\n\")\n",
    "# for i, row in tdf.iterrows():\n",
    "#     predicted = row['predicted_WA']\n",
    "#     expected = row['y_true']\n",
    "#     if predicted != expected:\n",
    "#       print(f\"[{i}] ❌ Predicted: {predicted} | Expected: {expected}\")\n",
    "#     else:\n",
    "#         print(f\"[{i}] ✅ Matched:   {predicted}\")\n",
    "\n",
    "\n",
    "'''\n",
    "Accuracy: 61.62%\n",
    "'''"
   ]
  },
  {
   "cell_type": "code",
   "execution_count": null,
   "metadata": {},
   "outputs": [],
   "source": []
  }
 ],
 "metadata": {
  "kernelspec": {
   "display_name": "venv",
   "language": "python",
   "name": "python3"
  },
  "language_info": {
   "codemirror_mode": {
    "name": "ipython",
    "version": 3
   },
   "file_extension": ".py",
   "mimetype": "text/x-python",
   "name": "python",
   "nbconvert_exporter": "python",
   "pygments_lexer": "ipython3",
   "version": "3.11.8"
  }
 },
 "nbformat": 4,
 "nbformat_minor": 2
}
