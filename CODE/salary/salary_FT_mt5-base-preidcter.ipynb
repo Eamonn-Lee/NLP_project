{
 "cells": [
  {
   "cell_type": "code",
   "execution_count": null,
   "metadata": {},
   "outputs": [
    {
     "name": "stdout",
     "output_type": "stream",
     "text": [
      "Requirement already satisfied: protobuf in /Users/garry/vs_code/6713/venv/lib/python3.11/site-packages (6.30.2)\n",
      "Note: you may need to restart the kernel to use updated packages.\n",
      "True\n"
     ]
    },
    {
     "name": "stderr",
     "output_type": "stream",
     "text": [
      "Device set to use mps:0\n"
     ]
    }
   ],
   "source": [
    "%pip install protobuf\n",
    "import transformers\n",
    "from transformers import pipeline\n",
    "from transformers import BertTokenizerFast, BertForQuestionAnswering, TrainingArguments, Trainer\n",
    "from transformers import AutoTokenizer, AutoModelForSeq2SeqLM, Seq2SeqTrainer, Seq2SeqTrainingArguments\n",
    "from transformers import MT5ForConditionalGeneration, MT5Tokenizer\n",
    "import pandas as pd\n",
    "import numpy as np\n",
    "import torch\n",
    "from bs4 import BeautifulSoup\n",
    "from datasets import Dataset\n",
    "import re\n",
    "print(torch.backends.mps.is_available())\n",
    "\n",
    "import sys\n",
    "sys.path.append(\"../CODE-Baseline\")  \n",
    "import warnings\n",
    "warnings.filterwarnings('ignore')\n",
    "\n",
    "\n",
    "from salary_baseline import extract_salary_with_inference\n",
    "\n",
    "\n",
    "file_path = '../../MISC/salary_labelled_development_set.csv'\n",
    "test_file_path = '../../MISC/salary_labelled_test_set.csv'\n",
    "df = pd.read_csv(file_path)\n",
    "tdf=pd.read_csv(test_file_path)\n",
    "model_name = \"./mt5-base-salary\"\n",
    "tokenizer = AutoTokenizer.from_pretrained(model_name)\n",
    "model = AutoModelForSeq2SeqLM.from_pretrained(model_name)\n",
    "# model.to('cpu')\n",
    "qa_pipeline = pipeline(\"text2text-generation\", model=model, tokenizer=tokenizer)\n",
    "\n"
   ]
  },
  {
   "cell_type": "code",
   "execution_count": 4,
   "metadata": {},
   "outputs": [],
   "source": [
    "# 清理 HTML 标签\n",
    "def clean_html_tags(html_text):\n",
    "    soup = BeautifulSoup(html_text, 'html.parser')\n",
    "    for tag in soup([\"script\", \"style\"]):\n",
    "        tag.decompose()\n",
    "    return soup.get_text(separator=\"\\n\", strip=True)\n",
    "\n",
    "# 构造输入输出\n",
    "def row_to_input_output(row):\n",
    "    context = clean_html_tags(f\"{row['job_title']} {row['job_ad_details']}\")\n",
    "    prompt = (\n",
    "        \"Extract the salary info from the job ad below and return it as: \"\n",
    "        \"\\\"MinimumSalary MaximumSalary Currency PayPeriod\\\"\\n\\n\"\n",
    "    )\n",
    "    input_text = prompt + context\n",
    "    output_text = str(row[\"y_true\"]).strip().replace(\"-\", \" \")\n",
    "    return {\"input\": input_text, \"output\": output_text}\n",
    "\n",
    "# 预处理函数\n",
    "def preprocess(example):\n",
    "    model_inputs = tokenizer(example[\"input\"], max_length=512, truncation=True, padding=\"max_length\")\n",
    "    with tokenizer.as_target_tokenizer():\n",
    "        labels = tokenizer(example[\"output\"], max_length=64, truncation=True, padding=\"max_length\")[\"input_ids\"]\n",
    "    labels = [token if token != tokenizer.pad_token_id else -100 for token in labels]\n",
    "    model_inputs[\"labels\"] = labels\n",
    "    return model_inputs\n",
    "\n"
   ]
  },
  {
   "cell_type": "code",
   "execution_count": 14,
   "metadata": {},
   "outputs": [],
   "source": [
    "import re\n",
    "\n",
    "def generate_prediction(row):\n",
    "    input_text = row_to_input_output(row)[\"input\"]\n",
    "    output = qa_pipeline(input_text)\n",
    "    predict = output[0][\"generated_text\"].strip()\n",
    "\n",
    "    # 匹配格式：数字 数字 字母 字母\n",
    "    pattern = r\"^(\\d+(?:\\.\\d+)?)\\s+(\\d+(?:\\.\\d+)?)\\s+([A-Za-z]+)\\s+([A-Za-z]+)$\"\n",
    "    match = re.match(pattern, predict)\n",
    "\n",
    "    if match:\n",
    "        min_pred, max_pred, currency_pred, period_pred = match.groups()\n",
    "        # 四舍五入并转为整数\n",
    "        min_pred = str(round(float(min_pred)))\n",
    "        max_pred = str(round(float(max_pred)))\n",
    "        return f\"{min_pred}-{max_pred}-{currency_pred}-{period_pred}\"\n",
    "    else:\n",
    "        return \"0-0-None-None\"\n",
    "\n",
    "# def generate_new_y_true(row):\n",
    "#     output_text = row_to_input_output(row)[\"output\"]\n",
    "\n",
    "#     return output_text\n",
    "  \n",
    "  \n",
    "def fuzzy_equal(predict, y_true):\n",
    "    pattern = r\"(\\d+)-(\\d+)-([A-Z]+)-([A-Z]+)\"\n",
    "\n",
    "    if predict==\"0-0-None-None\" and y_true==\"0-0-None-None\":\n",
    "      return True\n",
    "    match_pred = re.match(pattern, predict)\n",
    "    match_true = re.match(pattern, y_true)\n",
    "\n",
    "    if not match_pred or not match_true:\n",
    "      return False  \n",
    "\n",
    "    min_pred, max_pred, currency_pred, period_pred = match_pred.groups()\n",
    "    min_true, max_true, currency_true, period_true = match_true.groups()\n",
    "\n",
    "    # 转为整数\n",
    "    min_pred, max_pred = int(min_pred), int(max_pred)\n",
    "    min_true, max_true = int(min_true), int(max_true)\n",
    "\n",
    "    # 允许1的误差\n",
    "    min_ok = abs(min_pred - min_true) <= 1\n",
    "    max_ok = abs(max_pred - max_true) <= 1\n",
    "\n",
    "    # 货币和周期必须严格相等\n",
    "    currency_ok = currency_pred == currency_true\n",
    "    period_ok = period_pred == period_true\n",
    "\n",
    "    return min_ok and max_ok and currency_ok and period_ok\n"
   ]
  },
  {
   "cell_type": "code",
   "execution_count": 16,
   "metadata": {},
   "outputs": [
    {
     "name": "stdout",
     "output_type": "stream",
     "text": [
      "Development dataset:\n",
      "Precision: 0.8826\n",
      "Recall: 0.9803\n",
      "F1 Score: 0.9289\n",
      "Accuracy: 0.9228\n"
     ]
    },
    {
     "data": {
      "text/plain": [
       "'\\nDevelopment dataset:\\nPrecision: 0.8539\\nRecall: 0.9734\\nF1 Score: 0.9098\\nAccuracy: 0.9038\\n'"
      ]
     },
     "execution_count": 16,
     "metadata": {},
     "output_type": "execute_result"
    }
   ],
   "source": [
    "\n",
    "df[\"predicted_salary\"] = df.apply(generate_prediction, axis=1)\n",
    "# df[\"y_true\"] = df.apply(generate_y_true, axis=1)\n",
    "\n",
    "TP = np.sum((df['predicted_salary'] == df['y_true']) & (df['y_true'] != \"0-0-None-None\"))\n",
    "FP = np.sum((df['predicted_salary'] != df['y_true']) & (df['predicted_salary'] != \"0-0-None-None\"))\n",
    "FN = np.sum((df['predicted_salary'] == \"0-0-None-None\") & (df['y_true'] != \"0-0-None-None\"))\n",
    "TN = np.sum((df['predicted_salary'] == \"0-0-None-None\") & (df['y_true'] == \"0-0-None-None\"))\n",
    "\n",
    "\n",
    "precision = TP / (TP + FP) if (TP + FP) != 0 else 0\n",
    "recall = TP / (TP + FN) if (TP + FN) != 0 else 0\n",
    "f1 = 2 * (precision * recall) / (precision + recall) if (precision + recall) != 0 else 0\n",
    "accuracy = (TP + TN) / (FP + FN + TP + TN)\n",
    "\n",
    "print(\"Development dataset:\")\n",
    "print(f\"Precision: {precision:.4f}\")\n",
    "print(f\"Recall: {recall:.4f}\")\n",
    "print(f\"F1 Score: {f1:.4f}\")\n",
    "print(f\"Accuracy: {accuracy:.4f}\")\n",
    "\n",
    "'''\n",
    "Development dataset:\n",
    "Precision: 0.8826\n",
    "Recall: 0.9803\n",
    "F1 Score: 0.9289\n",
    "Accuracy: 0.9228\n",
    "'''\n"
   ]
  },
  {
   "cell_type": "code",
   "execution_count": 13,
   "metadata": {},
   "outputs": [
    {
     "name": "stdout",
     "output_type": "stream",
     "text": [
      "Test dataset:\n",
      "Precision: 0.7987\n",
      "Recall: 0.9549\n",
      "F1 Score: 0.8699\n",
      "Accuracy: 0.8660\n"
     ]
    },
    {
     "data": {
      "text/plain": [
       "'\\nTest dataset:\\nPrecision: 0.7918\\nRecall: 0.9544\\nF1 Score: 0.8655\\nAccuracy: 0.8624\\n'"
      ]
     },
     "execution_count": 13,
     "metadata": {},
     "output_type": "execute_result"
    }
   ],
   "source": [
    "tdf=pd.read_csv(test_file_path)\n",
    "tdf[\"predicted_salary\"] = tdf.apply(generate_prediction, axis=1)\n",
    "# tdf[\"y_true\"] = tdf.apply(generate_y_true, axis=1)\n",
    "\n",
    "TP = np.sum((tdf['predicted_salary'] == tdf['y_true']) & (tdf['y_true'] != \"0-0-None-None\"))\n",
    "FP = np.sum((tdf['predicted_salary'] != tdf['y_true']) & (tdf['predicted_salary'] != \"0-0-None-None\"))\n",
    "FN = np.sum((tdf['predicted_salary'] == \"0-0-None-None\") & (tdf['y_true'] != \"0-0-None-None\"))\n",
    "TN = np.sum((tdf['predicted_salary'] == \"0-0-None-None\") & (tdf['y_true'] == \"0-0-None-None\"))\n",
    "\n",
    "\n",
    "precision = TP / (TP + FP) if (TP + FP) != 0 else 0\n",
    "recall = TP / (TP + FN) if (TP + FN) != 0 else 0\n",
    "f1 = 2 * (precision * recall) / (precision + recall) if (precision + recall) != 0 else 0\n",
    "accuracy = (TP + TN) / (FP + FN + TP + TN)\n",
    "\n",
    "print(\"Test dataset:\")\n",
    "print(f\"Precision: {precision:.4f}\")\n",
    "print(f\"Recall: {recall:.4f}\")\n",
    "print(f\"F1 Score: {f1:.4f}\")\n",
    "print(f\"Accuracy: {accuracy:.4f}\")\n",
    "\n",
    "'''\n",
    "Test dataset:\n",
    "Precision: 0.7987\n",
    "Recall: 0.9549\n",
    "F1 Score: 0.8699\n",
    "Accuracy: 0.8660\n",
    "'''"
   ]
  },
  {
   "cell_type": "code",
   "execution_count": 17,
   "metadata": {},
   "outputs": [
    {
     "name": "stdout",
     "output_type": "stream",
     "text": [
      "Development dataset:\n",
      "Precision: 0.9081\n",
      "Recall: 0.9808\n",
      "F1 Score: 0.9431\n",
      "Accuracy: 0.9374\n"
     ]
    },
    {
     "data": {
      "text/plain": [
       "'\\nDevelopment dataset:\\nPrecision: 0.8959\\nRecall: 0.9746\\nF1 Score: 0.9336\\nAccuracy: 0.9277\\n'"
      ]
     },
     "execution_count": 17,
     "metadata": {},
     "output_type": "execute_result"
    }
   ],
   "source": [
    "df['is_positive'] = df['predicted_salary'] != \"0-0-None-None\"\n",
    "# fuzzy 匹配\n",
    "df['is_fuzzy_match'] = df.apply(lambda row: fuzzy_equal(row['predicted_salary'], row['y_true']), axis=1)\n",
    "\n",
    "# 计算 TP / FP / FN / TN\n",
    "TP = np.sum(df['is_fuzzy_match'] & df['is_positive'])\n",
    "FP = np.sum(~df['is_fuzzy_match'] & df['is_positive'])\n",
    "FN = np.sum(~df['is_fuzzy_match'] & ~df['is_positive'])\n",
    "TN = np.sum(df['is_fuzzy_match'] & ~df['is_positive'])\n",
    "\n",
    "\n",
    "precision = TP / (TP + FP) if (TP + FP) != 0 else 0\n",
    "recall = TP / (TP + FN) if (TP + FN) != 0 else 0\n",
    "f1 = 2 * (precision * recall) / (precision + recall) if (precision + recall) != 0 else 0\n",
    "accuracy = (TP + TN) / (FP + FN + TP + TN)\n",
    "\n",
    "print(\"Development dataset:\")\n",
    "print(f\"Precision: {precision:.4f}\")\n",
    "print(f\"Recall: {recall:.4f}\")\n",
    "print(f\"F1 Score: {f1:.4f}\")\n",
    "print(f\"Accuracy: {accuracy:.4f}\")\n",
    "\n",
    "'''\n",
    "Development dataset:\n",
    "Precision: 0.9081\n",
    "Recall: 0.9808\n",
    "F1 Score: 0.9431\n",
    "Accuracy: 0.9374\n",
    "'''"
   ]
  },
  {
   "cell_type": "code",
   "execution_count": 15,
   "metadata": {},
   "outputs": [
    {
     "name": "stdout",
     "output_type": "stream",
     "text": [
      "Test dataset:\n",
      "Precision: 0.8396\n",
      "Recall: 0.9570\n",
      "F1 Score: 0.8945\n",
      "Accuracy: 0.8889\n"
     ]
    },
    {
     "data": {
      "text/plain": [
       "'\\nTest dataset:\\nPrecision: 0.8360\\nRecall: 0.9567\\nF1 Score: 0.8923\\nAccuracy: 0.8871\\n'"
      ]
     },
     "execution_count": 15,
     "metadata": {},
     "output_type": "execute_result"
    }
   ],
   "source": [
    "tdf['is_positive'] = tdf['predicted_salary'] != \"0-0-None-None\"\n",
    "# fuzzy 匹配\n",
    "tdf['is_fuzzy_match'] = tdf.apply(lambda row: fuzzy_equal(row['predicted_salary'], row['y_true']), axis=1)\n",
    "\n",
    "# 计算 TP / FP / FN / TN\n",
    "TP = np.sum(tdf['is_fuzzy_match'] & tdf['is_positive'])\n",
    "FP = np.sum(~tdf['is_fuzzy_match'] & tdf['is_positive'])\n",
    "FN = np.sum(~tdf['is_fuzzy_match'] & ~tdf['is_positive'])\n",
    "TN = np.sum(tdf['is_fuzzy_match'] & ~tdf['is_positive'])\n",
    "\n",
    "\n",
    "precision = TP / (TP + FP) if (TP + FP) != 0 else 0\n",
    "recall = TP / (TP + FN) if (TP + FN) != 0 else 0\n",
    "f1 = 2 * (precision * recall) / (precision + recall) if (precision + recall) != 0 else 0\n",
    "accuracy = (TP + TN) / (FP + FN + TP + TN)\n",
    "\n",
    "print(\"Test dataset:\")\n",
    "print(f\"Precision: {precision:.4f}\")\n",
    "print(f\"Recall: {recall:.4f}\")\n",
    "print(f\"F1 Score: {f1:.4f}\")\n",
    "print(f\"Accuracy: {accuracy:.4f}\")\n",
    "'''\n",
    "Test dataset:\n",
    "Precision: 0.8396\n",
    "Recall: 0.9570\n",
    "F1 Score: 0.8945\n",
    "Accuracy: 0.8889\n",
    "'''"
   ]
  }
 ],
 "metadata": {
  "kernelspec": {
   "display_name": "venv",
   "language": "python",
   "name": "python3"
  },
  "language_info": {
   "codemirror_mode": {
    "name": "ipython",
    "version": 3
   },
   "file_extension": ".py",
   "mimetype": "text/x-python",
   "name": "python",
   "nbconvert_exporter": "python",
   "pygments_lexer": "ipython3",
   "version": "3.11.8"
  }
 },
 "nbformat": 4,
 "nbformat_minor": 2
}
