{
 "cells": [
  {
   "cell_type": "markdown",
   "metadata": {},
   "source": [
    "Heaviy adapted from Week5 tutorial"
   ]
  },
  {
   "cell_type": "markdown",
   "metadata": {},
   "source": []
  },
  {
   "cell_type": "code",
   "execution_count": 15,
   "metadata": {},
   "outputs": [],
   "source": [
    "\n",
    "import transformers\n",
    "from transformers import AutoModelForSequenceClassification, AutoTokenizer\n",
    "import pandas as pd\n",
    "import torch"
   ]
  },
  {
   "cell_type": "markdown",
   "metadata": {},
   "source": [
    "initialisation"
   ]
  },
  {
   "cell_type": "code",
   "execution_count": 16,
   "metadata": {},
   "outputs": [
    {
     "name": "stdout",
     "output_type": "stream",
     "text": [
      "cpu\n"
     ]
    },
    {
     "name": "stderr",
     "output_type": "stream",
     "text": [
      "Some weights of LongformerForSequenceClassification were not initialized from the model checkpoint at allenai/longformer-base-4096 and are newly initialized: ['classifier.dense.bias', 'classifier.dense.weight', 'classifier.out_proj.bias', 'classifier.out_proj.weight']\n",
      "You should probably TRAIN this model on a down-stream task to be able to use it for predictions and inference.\n"
     ]
    }
   ],
   "source": [
    "#device = torch.cuda.current_device() if torch.cuda.is_available() else \"cpu\" # This line checks if a GPU is available and sets the device to GPU (e.g., cuda:0) or CPU.\n",
    "device = torch.device(\"cpu\")\n",
    "print(device)\n",
    "\n",
    "\n",
    "# Initialise the model and tokenizer to a pre-trained model. Suggestions: facebook/opt-350m, bigscience/bloom-560m\n",
    "\n",
    "# model is made to classify sentence into 1/3 categories -> wa is a seq classification task\n",
    "model = AutoModelForSequenceClassification.from_pretrained(\"allenai/longformer-base-4096\", num_labels=3)\n",
    "tokenizer = AutoTokenizer.from_pretrained(\"allenai/longformer-base-4096\")\n",
    "model = model.to(device)"
   ]
  },
  {
   "cell_type": "markdown",
   "metadata": {},
   "source": [
    "Data processing"
   ]
  },
  {
   "cell_type": "code",
   "execution_count": 17,
   "metadata": {},
   "outputs": [
    {
     "name": "stdout",
     "output_type": "stream",
     "text": [
      "                                                 text  y_true  labels\n",
      "0   Job title: CEO\\nAbstract: Exciting opportunity...  Remote       2\n",
      "1   Job title: Home-Based Online ESL Teacher (Onli...  Remote       2\n",
      "2   Job title: Safeguarding, De La Salle\\nAbstract...  Hybrid       0\n",
      "3   Job title: Delivery Driver\\nAbstract: Pickup t...  OnSite       1\n",
      "4   Job title: Store Supervisor\\nAbstract: We are ...  OnSite       1\n",
      "..                                                ...     ...     ...\n",
      "94  Job title: Senior Pipeline Technical Director\\...  Hybrid       0\n",
      "95  Job title: Customer Support Administrator\\nAbs...  OnSite       1\n",
      "96  Job title: Remote Writing Evaluator for AI (As...  Remote       2\n",
      "97  Job title: People & Culture Advisor\\nAbstract:...  Hybrid       0\n",
      "98  Job title: Draftsperson\\nAbstract: Residential...  Hybrid       0\n",
      "\n",
      "[99 rows x 3 columns]\n"
     ]
    }
   ],
   "source": [
    "from datasets import Dataset\n",
    "\n",
    "fp = \"../DATASETS/work_arrangements_development_set.csv\"\n",
    "df = pd.read_csv(fp)\n",
    "df.drop(\"id\", axis=1, inplace=True) #get rid of id column\n",
    "df.rename(columns={\"job_ad\": \"text\"}, inplace=True)\n",
    "\n",
    "#https://github.com/huggingface/notebooks/blob/main/examples/text_classification-tf.ipynb -> credit\n",
    "id2label = {\n",
    "    0:'Hybrid',\n",
    "    1:'OnSite',\n",
    "    2:'Remote'\n",
    "            }\n",
    "label2id = {val: key for key, val in id2label.items()}\n",
    "\n",
    "df['labels'] = df['y_true'].map(label2id)    #convert label to enum\n",
    "print(df)\n",
    "\n"
   ]
  },
  {
   "cell_type": "markdown",
   "metadata": {},
   "source": [
    "tokenisation"
   ]
  },
  {
   "cell_type": "code",
   "execution_count": 18,
   "metadata": {},
   "outputs": [
    {
     "data": {
      "application/vnd.jupyter.widget-view+json": {
       "model_id": "2f9e899c88784fde9a10a78b37214bbf",
       "version_major": 2,
       "version_minor": 0
      },
      "text/plain": [
       "Map:   0%|          | 0/99 [00:00<?, ? examples/s]"
      ]
     },
     "metadata": {},
     "output_type": "display_data"
    }
   ],
   "source": [
    "#tokenised\n",
    "data = Dataset.from_pandas(df)\n",
    "\n",
    "data = data.map(lambda samples: tokenizer(samples[\"text\"], truncation=True, padding=\"max_length\", max_length=512), batched=True)\n",
    "data.set_format(\"torch\")    #conversion to pyTorch tensors"
   ]
  },
  {
   "cell_type": "markdown",
   "metadata": {},
   "source": [
    "finetuning"
   ]
  },
  {
   "cell_type": "code",
   "execution_count": 19,
   "metadata": {},
   "outputs": [
    {
     "name": "stdout",
     "output_type": "stream",
     "text": [
      "2.6.0+cu118\n",
      "CUDA Available: True\n",
      "Device: NVIDIA GeForce GTX 1650 Ti\n",
      "Memory allocated: 1807878656\n"
     ]
    }
   ],
   "source": [
    "import torch\n",
    "\n",
    "#GPU sanity check\n",
    "\n",
    "print(torch.__version__)\n",
    "print(\"CUDA Available:\", torch.cuda.is_available())\n",
    "if torch.cuda.is_available():\n",
    "    print(\"Device:\", torch.cuda.get_device_name(0))\n",
    "    print(\"Memory allocated:\", torch.cuda.memory_allocated())"
   ]
  },
  {
   "cell_type": "code",
   "execution_count": null,
   "metadata": {},
   "outputs": [
    {
     "name": "stderr",
     "output_type": "stream",
     "text": [
      "/tmp/ipykernel_462/3886819987.py:16: FutureWarning: `tokenizer` is deprecated and will be removed in version 5.0.0 for `Trainer.__init__`. Use `processing_class` instead.\n",
      "  trainer = transformers.Trainer(\n"
     ]
    },
    {
     "data": {
      "text/html": [
       "\n",
       "    <div>\n",
       "      \n",
       "      <progress value='229' max='396' style='width:300px; height:20px; vertical-align: middle;'></progress>\n",
       "      [229/396 02:11 < 01:36, 1.72 it/s, Epoch 2.30/4]\n",
       "    </div>\n",
       "    <table border=\"1\" class=\"dataframe\">\n",
       "  <thead>\n",
       " <tr style=\"text-align: left;\">\n",
       "      <th>Step</th>\n",
       "      <th>Training Loss</th>\n",
       "    </tr>\n",
       "  </thead>\n",
       "  <tbody>\n",
       "    <tr>\n",
       "      <td>1</td>\n",
       "      <td>1.022300</td>\n",
       "    </tr>\n",
       "    <tr>\n",
       "      <td>10</td>\n",
       "      <td>1.138300</td>\n",
       "    </tr>\n",
       "    <tr>\n",
       "      <td>20</td>\n",
       "      <td>1.128900</td>\n",
       "    </tr>\n",
       "    <tr>\n",
       "      <td>30</td>\n",
       "      <td>1.207100</td>\n",
       "    </tr>\n",
       "    <tr>\n",
       "      <td>40</td>\n",
       "      <td>1.076000</td>\n",
       "    </tr>\n",
       "    <tr>\n",
       "      <td>50</td>\n",
       "      <td>1.112100</td>\n",
       "    </tr>\n",
       "    <tr>\n",
       "      <td>60</td>\n",
       "      <td>1.263200</td>\n",
       "    </tr>\n",
       "    <tr>\n",
       "      <td>70</td>\n",
       "      <td>1.006800</td>\n",
       "    </tr>\n",
       "    <tr>\n",
       "      <td>80</td>\n",
       "      <td>1.046200</td>\n",
       "    </tr>\n",
       "    <tr>\n",
       "      <td>90</td>\n",
       "      <td>1.044600</td>\n",
       "    </tr>\n",
       "    <tr>\n",
       "      <td>100</td>\n",
       "      <td>1.180200</td>\n",
       "    </tr>\n",
       "    <tr>\n",
       "      <td>110</td>\n",
       "      <td>0.997500</td>\n",
       "    </tr>\n",
       "    <tr>\n",
       "      <td>120</td>\n",
       "      <td>1.157900</td>\n",
       "    </tr>\n",
       "    <tr>\n",
       "      <td>130</td>\n",
       "      <td>1.353100</td>\n",
       "    </tr>\n",
       "    <tr>\n",
       "      <td>140</td>\n",
       "      <td>1.179400</td>\n",
       "    </tr>\n",
       "    <tr>\n",
       "      <td>150</td>\n",
       "      <td>1.371200</td>\n",
       "    </tr>\n",
       "    <tr>\n",
       "      <td>160</td>\n",
       "      <td>1.011500</td>\n",
       "    </tr>\n",
       "    <tr>\n",
       "      <td>170</td>\n",
       "      <td>1.150700</td>\n",
       "    </tr>\n",
       "    <tr>\n",
       "      <td>180</td>\n",
       "      <td>1.413100</td>\n",
       "    </tr>\n",
       "    <tr>\n",
       "      <td>190</td>\n",
       "      <td>1.204700</td>\n",
       "    </tr>\n",
       "    <tr>\n",
       "      <td>200</td>\n",
       "      <td>1.067800</td>\n",
       "    </tr>\n",
       "    <tr>\n",
       "      <td>210</td>\n",
       "      <td>1.181500</td>\n",
       "    </tr>\n",
       "    <tr>\n",
       "      <td>220</td>\n",
       "      <td>1.009000</td>\n",
       "    </tr>\n",
       "  </tbody>\n",
       "</table><p>"
      ],
      "text/plain": [
       "<IPython.core.display.HTML object>"
      ]
     },
     "metadata": {},
     "output_type": "display_data"
    }
   ],
   "source": [
    "import os\n",
    "\n",
    "training_args = transformers.TrainingArguments(\n",
    "    output_dir=\"./results\",\n",
    "    num_train_epochs=4,\n",
    "    per_device_train_batch_size=1,  #keep at 1, otherwise crash\n",
    "    logging_dir=\"./logs\",\n",
    "    report_to=\"none\", \n",
    "    logging_strategy=\"steps\",\n",
    "    logging_steps=10,\n",
    "    logging_first_step=True, \n",
    "    disable_tqdm=False, \n",
    ")\n",
    "\n",
    "# === 6. Trainer and training ===\n",
    "trainer = transformers.Trainer(\n",
    "    model=model,\n",
    "    args=training_args,\n",
    "    train_dataset=data,\n",
    "    tokenizer=tokenizer\n",
    ")\n",
    "\n",
    "os.environ[\"CUDA_LAUNCH_BLOCKING\"] = \"1\"\n",
    "\n",
    "trainer.train()"
   ]
  },
  {
   "cell_type": "markdown",
   "metadata": {},
   "source": [
    "Eval"
   ]
  },
  {
   "cell_type": "code",
   "execution_count": null,
   "metadata": {},
   "outputs": [
    {
     "data": {
      "application/vnd.jupyter.widget-view+json": {
       "model_id": "9cf1cc3f6d894879a158802cb2982614",
       "version_major": 2,
       "version_minor": 0
      },
      "text/plain": [
       "Map:   0%|          | 0/99 [00:00<?, ? examples/s]"
      ]
     },
     "metadata": {},
     "output_type": "display_data"
    },
    {
     "name": "stdout",
     "output_type": "stream",
     "text": [
      "Dataset({\n",
      "    features: ['text', 'y_true', 'input_ids', 'attention_mask'],\n",
      "    num_rows: 99\n",
      "})\n"
     ]
    }
   ],
   "source": [
    "#get test data\n",
    "\n",
    "fp = \"../DATASETS/work_arrangements_test_set.csv\"\n",
    "df = pd.read_csv(fp)\n",
    "df.drop(\"id\", axis=1, inplace=True) #get rid of id column\n",
    "df.rename(columns={\"job_ad\": \"text\"}, inplace=True)\n",
    "\n",
    "df\n",
    "\n",
    "\n",
    "data = Dataset.from_pandas(df)\n",
    "data = data.map(lambda samples: tokenizer(samples[\"text\"], truncation=True, padding=\"max_length\", max_length=512), batched=True)\n",
    "data.set_format(\"torch\")    #conversion to pyTorch tensors\n",
    "\n",
    "print(data)\n"
   ]
  },
  {
   "cell_type": "code",
   "execution_count": null,
   "metadata": {},
   "outputs": [
    {
     "name": "stdout",
     "output_type": "stream",
     "text": [
      "CORRECT: prediction == label\n",
      "tensor([[-0.8617,  1.0222, -0.1750]], device='cuda:0')\n",
      "CORRECT: OnSite == OnSite\n",
      "tensor([[-0.8616,  1.0221, -0.1751]], device='cuda:0')\n",
      "CORRECT: OnSite == OnSite\n",
      "tensor([[-0.8617,  1.0222, -0.1750]], device='cuda:0')\n",
      "INCORRECT: OnSite == Remote\n",
      "tensor([[-0.8617,  1.0222, -0.1750]], device='cuda:0')\n",
      "INCORRECT: OnSite == Hybrid\n",
      "tensor([[-0.8616,  1.0221, -0.1751]], device='cuda:0')\n",
      "INCORRECT: OnSite == Remote\n",
      "tensor([[-0.8617,  1.0222, -0.1750]], device='cuda:0')\n",
      "CORRECT: OnSite == OnSite\n",
      "tensor([[-0.8617,  1.0222, -0.1750]], device='cuda:0')\n",
      "INCORRECT: OnSite == Hybrid\n",
      "tensor([[-0.8618,  1.0222, -0.1750]], device='cuda:0')\n",
      "INCORRECT: OnSite == Remote\n",
      "tensor([[-0.8618,  1.0222, -0.1750]], device='cuda:0')\n",
      "INCORRECT: OnSite == Hybrid\n",
      "tensor([[-0.8617,  1.0222, -0.1750]], device='cuda:0')\n",
      "INCORRECT: OnSite == Remote\n",
      "tensor([[-0.8618,  1.0222, -0.1750]], device='cuda:0')\n",
      "INCORRECT: OnSite == Hybrid\n",
      "tensor([[-0.8617,  1.0222, -0.1750]], device='cuda:0')\n",
      "CORRECT: OnSite == OnSite\n",
      "tensor([[-0.8618,  1.0222, -0.1750]], device='cuda:0')\n",
      "INCORRECT: OnSite == Remote\n",
      "tensor([[-0.8618,  1.0222, -0.1750]], device='cuda:0')\n",
      "CORRECT: OnSite == OnSite\n",
      "tensor([[-0.8617,  1.0222, -0.1750]], device='cuda:0')\n",
      "CORRECT: OnSite == OnSite\n",
      "tensor([[-0.8617,  1.0222, -0.1750]], device='cuda:0')\n",
      "CORRECT: OnSite == OnSite\n",
      "tensor([[-0.8617,  1.0222, -0.1750]], device='cuda:0')\n",
      "CORRECT: OnSite == OnSite\n",
      "tensor([[-0.8617,  1.0221, -0.1751]], device='cuda:0')\n",
      "INCORRECT: OnSite == Remote\n",
      "tensor([[-0.8618,  1.0222, -0.1750]], device='cuda:0')\n",
      "CORRECT: OnSite == OnSite\n",
      "tensor([[-0.8618,  1.0222, -0.1750]], device='cuda:0')\n",
      "INCORRECT: OnSite == Remote\n",
      "tensor([[-0.8617,  1.0222, -0.1750]], device='cuda:0')\n",
      "INCORRECT: OnSite == Remote\n",
      "tensor([[-0.8618,  1.0222, -0.1750]], device='cuda:0')\n",
      "INCORRECT: OnSite == Hybrid\n",
      "tensor([[-0.8618,  1.0222, -0.1750]], device='cuda:0')\n",
      "INCORRECT: OnSite == Remote\n",
      "tensor([[-0.8617,  1.0222, -0.1750]], device='cuda:0')\n",
      "INCORRECT: OnSite == Hybrid\n",
      "tensor([[-0.8617,  1.0222, -0.1750]], device='cuda:0')\n",
      "CORRECT: OnSite == OnSite\n",
      "tensor([[-0.8618,  1.0222, -0.1750]], device='cuda:0')\n",
      "CORRECT: OnSite == OnSite\n",
      "tensor([[-0.8618,  1.0222, -0.1750]], device='cuda:0')\n",
      "INCORRECT: OnSite == Hybrid\n",
      "tensor([[-0.8617,  1.0222, -0.1750]], device='cuda:0')\n",
      "CORRECT: OnSite == OnSite\n",
      "tensor([[-0.8619,  1.0222, -0.1750]], device='cuda:0')\n",
      "INCORRECT: OnSite == Remote\n",
      "tensor([[-0.8617,  1.0221, -0.1751]], device='cuda:0')\n",
      "CORRECT: OnSite == OnSite\n",
      "tensor([[-0.8616,  1.0221, -0.1751]], device='cuda:0')\n",
      "CORRECT: OnSite == OnSite\n",
      "tensor([[-0.8618,  1.0222, -0.1750]], device='cuda:0')\n",
      "INCORRECT: OnSite == Hybrid\n",
      "tensor([[-0.8617,  1.0222, -0.1750]], device='cuda:0')\n",
      "INCORRECT: OnSite == Hybrid\n",
      "tensor([[-0.8619,  1.0223, -0.1749]], device='cuda:0')\n",
      "INCORRECT: OnSite == Remote\n",
      "tensor([[-0.8617,  1.0222, -0.1750]], device='cuda:0')\n",
      "CORRECT: OnSite == OnSite\n",
      "tensor([[-0.8618,  1.0222, -0.1750]], device='cuda:0')\n",
      "CORRECT: OnSite == OnSite\n",
      "tensor([[-0.8617,  1.0222, -0.1751]], device='cuda:0')\n",
      "CORRECT: OnSite == OnSite\n",
      "tensor([[-0.8617,  1.0222, -0.1750]], device='cuda:0')\n",
      "INCORRECT: OnSite == Hybrid\n",
      "tensor([[-0.8615,  1.0220, -0.1751]], device='cuda:0')\n",
      "INCORRECT: OnSite == Hybrid\n",
      "tensor([[-0.8618,  1.0222, -0.1750]], device='cuda:0')\n",
      "CORRECT: OnSite == OnSite\n",
      "tensor([[-0.8617,  1.0222, -0.1750]], device='cuda:0')\n",
      "INCORRECT: OnSite == Hybrid\n",
      "tensor([[-0.8617,  1.0222, -0.1750]], device='cuda:0')\n",
      "INCORRECT: OnSite == Remote\n",
      "tensor([[-0.8617,  1.0222, -0.1750]], device='cuda:0')\n",
      "INCORRECT: OnSite == Remote\n",
      "tensor([[-0.8617,  1.0222, -0.1750]], device='cuda:0')\n",
      "INCORRECT: OnSite == Remote\n",
      "tensor([[-0.8618,  1.0222, -0.1750]], device='cuda:0')\n",
      "INCORRECT: OnSite == Hybrid\n",
      "tensor([[-0.8618,  1.0222, -0.1750]], device='cuda:0')\n",
      "CORRECT: OnSite == OnSite\n",
      "tensor([[-0.8617,  1.0222, -0.1750]], device='cuda:0')\n",
      "CORRECT: OnSite == OnSite\n",
      "tensor([[-0.8618,  1.0222, -0.1750]], device='cuda:0')\n",
      "INCORRECT: OnSite == Remote\n",
      "tensor([[-0.8619,  1.0223, -0.1750]], device='cuda:0')\n",
      "INCORRECT: OnSite == Remote\n",
      "tensor([[-0.8618,  1.0222, -0.1750]], device='cuda:0')\n",
      "CORRECT: OnSite == OnSite\n",
      "tensor([[-0.8617,  1.0222, -0.1750]], device='cuda:0')\n",
      "INCORRECT: OnSite == Hybrid\n",
      "tensor([[-0.8618,  1.0222, -0.1750]], device='cuda:0')\n",
      "INCORRECT: OnSite == Hybrid\n",
      "tensor([[-0.8617,  1.0222, -0.1750]], device='cuda:0')\n",
      "CORRECT: OnSite == OnSite\n",
      "tensor([[-0.8618,  1.0222, -0.1750]], device='cuda:0')\n",
      "CORRECT: OnSite == OnSite\n",
      "tensor([[-0.8618,  1.0222, -0.1750]], device='cuda:0')\n",
      "CORRECT: OnSite == OnSite\n",
      "tensor([[-0.8617,  1.0222, -0.1750]], device='cuda:0')\n",
      "INCORRECT: OnSite == Remote\n",
      "tensor([[-0.8618,  1.0222, -0.1750]], device='cuda:0')\n",
      "CORRECT: OnSite == OnSite\n",
      "tensor([[-0.8618,  1.0222, -0.1750]], device='cuda:0')\n",
      "INCORRECT: OnSite == Hybrid\n",
      "tensor([[-0.8619,  1.0222, -0.1750]], device='cuda:0')\n",
      "INCORRECT: OnSite == Hybrid\n",
      "tensor([[-0.8618,  1.0222, -0.1750]], device='cuda:0')\n",
      "INCORRECT: OnSite == Remote\n",
      "tensor([[-0.8618,  1.0222, -0.1750]], device='cuda:0')\n",
      "CORRECT: OnSite == OnSite\n",
      "tensor([[-0.8617,  1.0222, -0.1750]], device='cuda:0')\n",
      "INCORRECT: OnSite == Hybrid\n",
      "tensor([[-0.8618,  1.0222, -0.1750]], device='cuda:0')\n",
      "CORRECT: OnSite == OnSite\n",
      "tensor([[-0.8617,  1.0222, -0.1750]], device='cuda:0')\n",
      "INCORRECT: OnSite == Hybrid\n",
      "tensor([[-0.8617,  1.0222, -0.1750]], device='cuda:0')\n",
      "INCORRECT: OnSite == Remote\n",
      "tensor([[-0.8618,  1.0222, -0.1750]], device='cuda:0')\n",
      "INCORRECT: OnSite == Remote\n",
      "tensor([[-0.8617,  1.0222, -0.1750]], device='cuda:0')\n",
      "INCORRECT: OnSite == Remote\n",
      "tensor([[-0.8617,  1.0221, -0.1750]], device='cuda:0')\n",
      "INCORRECT: OnSite == Hybrid\n",
      "tensor([[-0.8617,  1.0221, -0.1750]], device='cuda:0')\n",
      "CORRECT: OnSite == OnSite\n",
      "tensor([[-0.8618,  1.0222, -0.1750]], device='cuda:0')\n",
      "CORRECT: OnSite == OnSite\n",
      "tensor([[-0.8618,  1.0222, -0.1750]], device='cuda:0')\n",
      "INCORRECT: OnSite == Hybrid\n",
      "tensor([[-0.8618,  1.0222, -0.1750]], device='cuda:0')\n",
      "CORRECT: OnSite == OnSite\n",
      "tensor([[-0.8616,  1.0221, -0.1751]], device='cuda:0')\n",
      "CORRECT: OnSite == OnSite\n",
      "tensor([[-0.8618,  1.0222, -0.1750]], device='cuda:0')\n",
      "INCORRECT: OnSite == Hybrid\n",
      "tensor([[-0.8617,  1.0222, -0.1750]], device='cuda:0')\n",
      "CORRECT: OnSite == OnSite\n",
      "tensor([[-0.8618,  1.0222, -0.1750]], device='cuda:0')\n",
      "INCORRECT: OnSite == Remote\n",
      "tensor([[-0.8618,  1.0222, -0.1750]], device='cuda:0')\n",
      "CORRECT: OnSite == OnSite\n",
      "tensor([[-0.8617,  1.0222, -0.1750]], device='cuda:0')\n",
      "INCORRECT: OnSite == Remote\n",
      "tensor([[-0.8616,  1.0221, -0.1751]], device='cuda:0')\n",
      "CORRECT: OnSite == OnSite\n",
      "tensor([[-0.8616,  1.0221, -0.1751]], device='cuda:0')\n",
      "CORRECT: OnSite == OnSite\n",
      "tensor([[-0.8618,  1.0222, -0.1750]], device='cuda:0')\n",
      "INCORRECT: OnSite == Hybrid\n",
      "tensor([[-0.8617,  1.0222, -0.1750]], device='cuda:0')\n",
      "CORRECT: OnSite == OnSite\n",
      "tensor([[-0.8618,  1.0222, -0.1750]], device='cuda:0')\n",
      "INCORRECT: OnSite == Hybrid\n",
      "tensor([[-0.8618,  1.0222, -0.1750]], device='cuda:0')\n",
      "CORRECT: OnSite == OnSite\n",
      "tensor([[-0.8617,  1.0222, -0.1750]], device='cuda:0')\n",
      "INCORRECT: OnSite == Remote\n",
      "tensor([[-0.8618,  1.0222, -0.1750]], device='cuda:0')\n",
      "INCORRECT: OnSite == Hybrid\n",
      "tensor([[-0.8618,  1.0222, -0.1750]], device='cuda:0')\n",
      "CORRECT: OnSite == OnSite\n",
      "tensor([[-0.8618,  1.0222, -0.1750]], device='cuda:0')\n",
      "CORRECT: OnSite == OnSite\n",
      "tensor([[-0.8618,  1.0222, -0.1750]], device='cuda:0')\n",
      "CORRECT: OnSite == OnSite\n",
      "tensor([[-0.8617,  1.0222, -0.1750]], device='cuda:0')\n",
      "INCORRECT: OnSite == Hybrid\n",
      "tensor([[-0.8617,  1.0222, -0.1750]], device='cuda:0')\n",
      "INCORRECT: OnSite == Remote\n",
      "tensor([[-0.8618,  1.0222, -0.1750]], device='cuda:0')\n",
      "CORRECT: OnSite == OnSite\n",
      "tensor([[-0.8617,  1.0222, -0.1750]], device='cuda:0')\n",
      "CORRECT: OnSite == OnSite\n",
      "tensor([[-0.8617,  1.0222, -0.1750]], device='cuda:0')\n",
      "INCORRECT: OnSite == Remote\n",
      "tensor([[-0.8618,  1.0222, -0.1750]], device='cuda:0')\n",
      "CORRECT: OnSite == OnSite\n",
      "tensor([[-0.8618,  1.0222, -0.1750]], device='cuda:0')\n",
      "INCORRECT: OnSite == Hybrid\n",
      "tensor([[-0.8617,  1.0222, -0.1750]], device='cuda:0')\n",
      "CORRECT: OnSite == OnSite\n",
      "tensor([[-0.8618,  1.0222, -0.1750]], device='cuda:0')\n",
      "CORRECT: OnSite == OnSite\n",
      "tensor([[-0.8617,  1.0222, -0.1750]], device='cuda:0')\n",
      "CORRECT: OnSite == OnSite\n",
      "Accuracy = 0.46464646464646464\n"
     ]
    }
   ],
   "source": [
    "# Set the model in evaluation mode\n",
    "model.eval()\n",
    "\n",
    "correct = 0\n",
    "\n",
    "print(f\"CORRECT: prediction == label\")\n",
    "\n",
    "with torch.no_grad():\n",
    "    for i in range(len(data)):\n",
    "        sample = data[i]\n",
    "        #print(sample)\n",
    "\n",
    "        input_ids = sample[\"input_ids\"].unsqueeze(0).to(device)\n",
    "        attention_mask = sample[\"attention_mask\"].unsqueeze(0).to(device)\n",
    "        outputs = model(input_ids=input_ids,\n",
    "                        attention_mask=attention_mask)\n",
    "        \n",
    "        #print(outputs)\n",
    "        logits = outputs.logits\n",
    "        print(logits)\n",
    "        pred = torch.argmax(logits, dim=1)  #returns tensor\n",
    "        predicted_label = id2label[pred.item()]\n",
    "        if predicted_label == sample['y_true']:\n",
    "            correct+=1\n",
    "            print(f\"CORRECT: {predicted_label} == {sample['y_true']}\")\n",
    "        else:\n",
    "            print(f\"INCORRECT: {predicted_label} == {sample['y_true']}\")\n",
    "\n",
    "print(f\"Accuracy = {correct/len(data)}\")\n"
   ]
  }
 ],
 "metadata": {
  "kernelspec": {
   "display_name": ".venv",
   "language": "python",
   "name": "python3"
  },
  "language_info": {
   "codemirror_mode": {
    "name": "ipython",
    "version": 3
   },
   "file_extension": ".py",
   "mimetype": "text/x-python",
   "name": "python",
   "nbconvert_exporter": "python",
   "pygments_lexer": "ipython3",
   "version": "3.12.3"
  }
 },
 "nbformat": 4,
 "nbformat_minor": 2
}
