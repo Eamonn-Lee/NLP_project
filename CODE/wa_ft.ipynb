{
 "cells": [
  {
   "cell_type": "markdown",
   "metadata": {},
   "source": [
    "A sequence classification approach - finetuned"
   ]
  },
  {
   "cell_type": "code",
   "execution_count": null,
   "metadata": {},
   "outputs": [],
   "source": [
    "import transformers\n",
    "from transformers import AutoModelForSequenceClassification, AutoTokenizer\n",
    "import pandas as pd\n",
    "import torch"
   ]
  },
  {
   "cell_type": "markdown",
   "metadata": {},
   "source": [
    "initialisation"
   ]
  },
  {
   "cell_type": "code",
   "execution_count": null,
   "metadata": {},
   "outputs": [
    {
     "name": "stdout",
     "output_type": "stream",
     "text": [
      "cpu\n"
     ]
    },
    {
     "name": "stderr",
     "output_type": "stream",
     "text": [
      "Some weights of LongformerForSequenceClassification were not initialized from the model checkpoint at allenai/longformer-base-4096 and are newly initialized: ['classifier.dense.bias', 'classifier.dense.weight', 'classifier.out_proj.bias', 'classifier.out_proj.weight']\n",
      "You should probably TRAIN this model on a down-stream task to be able to use it for predictions and inference.\n"
     ]
    }
   ],
   "source": [
    "device = torch.cuda.current_device() if torch.cuda.is_available() else \"cpu\" # This line checks if a GPU is available and sets the device to GPU (e.g., cuda:0) or CPU.\n",
    "#device = torch.device(\"cpu\")\n",
    "print(device)\n",
    "\n",
    "\n",
    "# Initialise the model and tokenizer to a pre-trained model. Suggestions: facebook/opt-350m, bigscience/bloom-560m\n",
    "\n",
    "# model is made to classify sentence into 1/3 categories -> wa is a seq classification task\n",
    "model = AutoModelForSequenceClassification.from_pretrained(\"allenai/longformer-base-4096\", num_labels=3)\n",
    "tokenizer = AutoTokenizer.from_pretrained(\"allenai/longformer-base-4096\")\n",
    "model = model.to(device)"
   ]
  },
  {
   "cell_type": "markdown",
   "metadata": {},
   "source": [
    "Data processing"
   ]
  },
  {
   "cell_type": "code",
   "execution_count": null,
   "metadata": {},
   "outputs": [
    {
     "name": "stdout",
     "output_type": "stream",
     "text": [
      "                                                 text  y_true  labels\n",
      "0   Job title: CEO\\nAbstract: Exciting opportunity...  Remote       2\n",
      "1   Job title: Home-Based Online ESL Teacher (Onli...  Remote       2\n",
      "2   Job title: Safeguarding, De La Salle\\nAbstract...  Hybrid       0\n",
      "3   Job title: Delivery Driver\\nAbstract: Pickup t...  OnSite       1\n",
      "4   Job title: Store Supervisor\\nAbstract: We are ...  OnSite       1\n",
      "..                                                ...     ...     ...\n",
      "94  Job title: Senior Pipeline Technical Director\\...  Hybrid       0\n",
      "95  Job title: Customer Support Administrator\\nAbs...  OnSite       1\n",
      "96  Job title: Remote Writing Evaluator for AI (As...  Remote       2\n",
      "97  Job title: People & Culture Advisor\\nAbstract:...  Hybrid       0\n",
      "98  Job title: Draftsperson\\nAbstract: Residential...  Hybrid       0\n",
      "\n",
      "[99 rows x 3 columns]\n"
     ]
    }
   ],
   "source": [
    "from datasets import Dataset\n",
    "\n",
    "fp = \"../DATASETS/work_arrangements_development_set.csv\"\n",
    "df = pd.read_csv(fp)\n",
    "df.drop(\"id\", axis=1, inplace=True) #get rid of id column\n",
    "df.rename(columns={\"job_ad\": \"text\"}, inplace=True)\n",
    "\n",
    "#https://github.com/huggingface/notebooks/blob/main/examples/text_classification-tf.ipynb -> credit\n",
    "id2label = {\n",
    "    0:'Hybrid',\n",
    "    1:'OnSite',\n",
    "    2:'Remote'\n",
    "            }\n",
    "label2id = {val: key for key, val in id2label.items()}\n",
    "\n",
    "df['labels'] = df['y_true'].map(label2id)    #convert label to enum\n",
    "print(df)"
   ]
  },
  {
   "cell_type": "markdown",
   "metadata": {},
   "source": [
    "tokenisation"
   ]
  },
  {
   "cell_type": "code",
   "execution_count": 28,
   "metadata": {},
   "outputs": [
    {
     "data": {
      "application/vnd.jupyter.widget-view+json": {
       "model_id": "eb3efe533ce74043b227153bd247f2f2",
       "version_major": 2,
       "version_minor": 0
      },
      "text/plain": [
       "Map:   0%|          | 0/99 [00:00<?, ? examples/s]"
      ]
     },
     "metadata": {},
     "output_type": "display_data"
    }
   ],
   "source": [
    "#tokenised\n",
    "data = Dataset.from_pandas(df)\n",
    "\n",
    "data = data.map(lambda samples: tokenizer(samples[\"text\"], truncation=True, padding=\"max_length\", max_length=1024), batched=True)\n",
    "data.set_format(\"torch\")    #conversion to pyTorch tensors"
   ]
  },
  {
   "cell_type": "markdown",
   "metadata": {},
   "source": [
    "finetuning"
   ]
  },
  {
   "cell_type": "code",
   "execution_count": 29,
   "metadata": {},
   "outputs": [
    {
     "name": "stdout",
     "output_type": "stream",
     "text": [
      "2.6.0\n",
      "CUDA Available: False\n"
     ]
    }
   ],
   "source": [
    "import torch\n",
    "\n",
    "#GPU sanity check\n",
    "\n",
    "print(torch.__version__)\n",
    "print(\"CUDA Available:\", torch.cuda.is_available())\n",
    "if torch.cuda.is_available():\n",
    "    print(\"Device:\", torch.cuda.get_device_name(0))\n",
    "    print(\"Memory allocated:\", torch.cuda.memory_allocated())"
   ]
  },
  {
   "cell_type": "code",
   "execution_count": 30,
   "metadata": {},
   "outputs": [
    {
     "name": "stderr",
     "output_type": "stream",
     "text": [
      "/var/folders/lm/xq8vdq2j58d_bdqjgxpq61_h0000gn/T/ipykernel_6862/3418661376.py:16: FutureWarning: `tokenizer` is deprecated and will be removed in version 5.0.0 for `Trainer.__init__`. Use `processing_class` instead.\n",
      "  trainer = transformers.Trainer(\n"
     ]
    },
    {
     "data": {
      "text/html": [
       "\n",
       "    <div>\n",
       "      \n",
       "      <progress value='100' max='100' style='width:300px; height:20px; vertical-align: middle;'></progress>\n",
       "      [100/100 56:18, Epoch 4/4]\n",
       "    </div>\n",
       "    <table border=\"1\" class=\"dataframe\">\n",
       "  <thead>\n",
       " <tr style=\"text-align: left;\">\n",
       "      <th>Step</th>\n",
       "      <th>Training Loss</th>\n",
       "    </tr>\n",
       "  </thead>\n",
       "  <tbody>\n",
       "    <tr>\n",
       "      <td>1</td>\n",
       "      <td>1.183100</td>\n",
       "    </tr>\n",
       "    <tr>\n",
       "      <td>10</td>\n",
       "      <td>1.080400</td>\n",
       "    </tr>\n",
       "    <tr>\n",
       "      <td>20</td>\n",
       "      <td>1.077800</td>\n",
       "    </tr>\n",
       "    <tr>\n",
       "      <td>30</td>\n",
       "      <td>0.991400</td>\n",
       "    </tr>\n",
       "    <tr>\n",
       "      <td>40</td>\n",
       "      <td>0.833900</td>\n",
       "    </tr>\n",
       "    <tr>\n",
       "      <td>50</td>\n",
       "      <td>0.860700</td>\n",
       "    </tr>\n",
       "    <tr>\n",
       "      <td>60</td>\n",
       "      <td>0.531800</td>\n",
       "    </tr>\n",
       "    <tr>\n",
       "      <td>70</td>\n",
       "      <td>0.567800</td>\n",
       "    </tr>\n",
       "    <tr>\n",
       "      <td>80</td>\n",
       "      <td>0.525100</td>\n",
       "    </tr>\n",
       "    <tr>\n",
       "      <td>90</td>\n",
       "      <td>0.290700</td>\n",
       "    </tr>\n",
       "    <tr>\n",
       "      <td>100</td>\n",
       "      <td>0.328600</td>\n",
       "    </tr>\n",
       "  </tbody>\n",
       "</table><p>"
      ],
      "text/plain": [
       "<IPython.core.display.HTML object>"
      ]
     },
     "metadata": {},
     "output_type": "display_data"
    },
    {
     "data": {
      "text/plain": [
       "TrainOutput(global_step=100, training_loss=0.7098444986343384, metrics={'train_runtime': 3415.7337, 'train_samples_per_second': 0.116, 'train_steps_per_second': 0.029, 'total_flos': 260115109208064.0, 'train_loss': 0.7098444986343384, 'epoch': 4.0})"
      ]
     },
     "execution_count": 30,
     "metadata": {},
     "output_type": "execute_result"
    }
   ],
   "source": [
    "import os\n",
    "\n",
    "training_args = transformers.TrainingArguments(\n",
    "    output_dir=\"./results\",\n",
    "    num_train_epochs=4,\n",
    "    per_device_train_batch_size=4,  #keep at 1, otherwise crash\n",
    "    logging_dir=\"./logs\",\n",
    "    report_to=\"none\", \n",
    "    logging_strategy=\"steps\",\n",
    "    logging_steps=10,\n",
    "    logging_first_step=True, \n",
    "    disable_tqdm=False, \n",
    ")\n",
    "\n",
    "# === 6. Trainer and training ===\n",
    "trainer = transformers.Trainer(\n",
    "    model=model,\n",
    "    args=training_args,\n",
    "    train_dataset=data,\n",
    "    tokenizer=tokenizer\n",
    ")\n",
    "\n",
    "os.environ[\"CUDA_LAUNCH_BLOCKING\"] = \"1\"\n",
    "\n",
    "trainer.train()"
   ]
  },
  {
   "cell_type": "markdown",
   "metadata": {},
   "source": [
    "Evaluation"
   ]
  },
  {
   "cell_type": "code",
   "execution_count": null,
   "metadata": {},
   "outputs": [
    {
     "data": {
      "application/vnd.jupyter.widget-view+json": {
       "model_id": "5b710279ff9644d2b565f2b9cbde0e7c",
       "version_major": 2,
       "version_minor": 0
      },
      "text/plain": [
       "Map:   0%|          | 0/99 [00:00<?, ? examples/s]"
      ]
     },
     "metadata": {},
     "output_type": "display_data"
    },
    {
     "name": "stdout",
     "output_type": "stream",
     "text": [
      "Dataset({\n",
      "    features: ['text', 'y_true', 'input_ids', 'attention_mask'],\n",
      "    num_rows: 99\n",
      "})\n"
     ]
    }
   ],
   "source": [
    "#get test data\n",
    "\n",
    "fp = \"../DATASETS/work_arrangements_test_set.csv\"\n",
    "df = pd.read_csv(fp)\n",
    "df.drop(\"id\", axis=1, inplace=True) #get rid of id column\n",
    "df.rename(columns={\"job_ad\": \"text\"}, inplace=True)\n",
    "\n",
    "\n",
    "data = Dataset.from_pandas(df)\n",
    "data = data.map(lambda samples: tokenizer(samples[\"text\"], truncation=True, padding=\"max_length\", max_length=512), batched=True)\n",
    "data.set_format(\"torch\")    #conversion to pyTorch tensors\n",
    "\n",
    "print(data)\n"
   ]
  },
  {
   "cell_type": "code",
   "execution_count": null,
   "metadata": {},
   "outputs": [
    {
     "name": "stdout",
     "output_type": "stream",
     "text": [
      "CORRECT: prediction == label\n",
      "tensor([[-1.7949,  3.1180, -1.3399]])\n",
      "CORRECT: OnSite == OnSite\n",
      "tensor([[-1.8689,  3.0330, -1.1010]])\n",
      "CORRECT: OnSite == OnSite\n",
      "tensor([[ 1.2589, -1.5104,  1.1052]])\n",
      "INCORRECT: Hybrid == Remote\n",
      "tensor([[ 1.4791, -1.0479,  0.5959]])\n",
      "CORRECT: Hybrid == Hybrid\n",
      "tensor([[ 1.7898, -1.4003,  0.7262]])\n",
      "INCORRECT: Hybrid == Remote\n",
      "tensor([[-1.8158,  3.0434, -1.2447]])\n",
      "CORRECT: OnSite == OnSite\n",
      "tensor([[ 2.3689, -1.7348,  0.1627]])\n",
      "CORRECT: Hybrid == Hybrid\n",
      "tensor([[ 0.5900, -1.2542,  1.4120]])\n",
      "CORRECT: Remote == Remote\n",
      "tensor([[ 0.1287, -1.1434,  1.5993]])\n",
      "INCORRECT: Remote == Hybrid\n",
      "tensor([[-1.8989,  3.0042, -1.2466]])\n",
      "INCORRECT: OnSite == Remote\n",
      "tensor([[ 1.1834, -1.6790,  1.3833]])\n",
      "INCORRECT: Remote == Hybrid\n",
      "tensor([[ 2.1870, -1.5552,  0.3940]])\n",
      "INCORRECT: Hybrid == OnSite\n",
      "tensor([[-1.9725,  2.6050, -0.6393]])\n",
      "INCORRECT: OnSite == Remote\n",
      "tensor([[ 1.8091, -1.5738,  0.8714]])\n",
      "INCORRECT: Hybrid == OnSite\n",
      "tensor([[ 1.8864, -1.3016,  0.4077]])\n",
      "INCORRECT: Hybrid == OnSite\n",
      "tensor([[ 0.4901, -1.4037,  1.4230]])\n",
      "INCORRECT: Remote == OnSite\n",
      "tensor([[ 1.1153, -1.2920,  0.8888]])\n",
      "INCORRECT: Hybrid == OnSite\n",
      "tensor([[-1.9502,  3.0965, -1.3167]])\n",
      "INCORRECT: OnSite == Remote\n",
      "tensor([[ 2.0882, -1.1566,  0.2844]])\n",
      "INCORRECT: Hybrid == OnSite\n",
      "tensor([[-1.0687, -0.2226,  1.8615]])\n",
      "CORRECT: Remote == Remote\n",
      "tensor([[-1.9282,  1.5643,  0.4896]])\n",
      "INCORRECT: OnSite == Remote\n",
      "tensor([[ 2.4208, -1.4558,  0.1159]])\n",
      "CORRECT: Hybrid == Hybrid\n",
      "tensor([[ 1.8264, -1.4123,  0.6890]])\n",
      "INCORRECT: Hybrid == Remote\n",
      "tensor([[ 2.0397, -1.7786,  0.7621]])\n",
      "CORRECT: Hybrid == Hybrid\n",
      "tensor([[-1.8935,  2.6736, -0.6194]])\n",
      "CORRECT: OnSite == OnSite\n",
      "tensor([[-1.5373,  1.0921,  0.6257]])\n",
      "CORRECT: OnSite == OnSite\n",
      "tensor([[ 1.9538, -1.5810,  0.6101]])\n",
      "CORRECT: Hybrid == Hybrid\n",
      "tensor([[ 1.8391, -1.4793,  0.6118]])\n",
      "INCORRECT: Hybrid == OnSite\n",
      "tensor([[ 1.3724, -2.0604,  1.5591]])\n",
      "CORRECT: Remote == Remote\n",
      "tensor([[ 1.2486, -1.3376,  1.1851]])\n",
      "INCORRECT: Hybrid == OnSite\n",
      "tensor([[-1.6998,  2.6789, -0.8699]])\n",
      "CORRECT: OnSite == OnSite\n",
      "tensor([[-0.1688, -0.9713,  1.5381]])\n",
      "INCORRECT: Remote == Hybrid\n",
      "tensor([[-0.1013, -0.2385,  0.8405]])\n",
      "INCORRECT: Remote == Hybrid\n",
      "tensor([[ 1.7962, -1.9914,  0.9317]])\n",
      "INCORRECT: Hybrid == Remote\n",
      "tensor([[-1.6983,  3.0535, -1.2643]])\n",
      "CORRECT: OnSite == OnSite\n",
      "tensor([[ 1.1471, -1.2645,  0.7605]])\n",
      "INCORRECT: Hybrid == OnSite\n",
      "tensor([[-1.9409,  3.0704, -1.2050]])\n",
      "CORRECT: OnSite == OnSite\n",
      "tensor([[ 2.6012, -1.5862,  0.1337]])\n",
      "CORRECT: Hybrid == Hybrid\n",
      "tensor([[-0.6021, -1.2409,  2.1132]])\n",
      "INCORRECT: Remote == Hybrid\n",
      "tensor([[-1.6377,  3.2056, -1.4126]])\n",
      "CORRECT: OnSite == OnSite\n",
      "tensor([[-1.5034,  2.1410, -0.3485]])\n",
      "INCORRECT: OnSite == Hybrid\n",
      "tensor([[ 1.9323, -1.8714,  0.8475]])\n",
      "INCORRECT: Hybrid == Remote\n",
      "tensor([[-0.2011, -1.2990,  2.0940]])\n",
      "CORRECT: Remote == Remote\n",
      "tensor([[-2.0574,  2.7020, -0.6553]])\n",
      "INCORRECT: OnSite == Remote\n",
      "tensor([[-1.8093,  3.0595, -1.0538]])\n",
      "INCORRECT: OnSite == Hybrid\n",
      "tensor([[-1.4722,  0.6467,  1.1178]])\n",
      "INCORRECT: Remote == OnSite\n",
      "tensor([[ 1.8613, -1.3919,  0.4246]])\n",
      "INCORRECT: Hybrid == OnSite\n",
      "tensor([[ 2.5468, -1.6577,  0.3036]])\n",
      "INCORRECT: Hybrid == Remote\n",
      "tensor([[ 2.7385, -1.9666,  0.3632]])\n",
      "INCORRECT: Hybrid == Remote\n",
      "tensor([[-2.0084,  2.8826, -0.8696]])\n",
      "CORRECT: OnSite == OnSite\n",
      "tensor([[ 2.2509, -1.3587,  0.1522]])\n",
      "CORRECT: Hybrid == Hybrid\n",
      "tensor([[ 1.9419, -1.4153,  0.4373]])\n",
      "CORRECT: Hybrid == Hybrid\n",
      "tensor([[-1.5703,  3.1894, -1.4048]])\n",
      "CORRECT: OnSite == OnSite\n",
      "tensor([[ 1.2716, -1.3587,  0.8619]])\n",
      "INCORRECT: Hybrid == OnSite\n",
      "tensor([[-0.7968,  0.4054,  0.6525]])\n",
      "INCORRECT: Remote == OnSite\n",
      "tensor([[ 0.7891, -1.1004,  0.6115]])\n",
      "INCORRECT: Hybrid == Remote\n",
      "tensor([[-1.8009,  2.8556, -0.9717]])\n",
      "CORRECT: OnSite == OnSite\n",
      "tensor([[ 2.3170, -1.5586,  0.3782]])\n",
      "CORRECT: Hybrid == Hybrid\n",
      "tensor([[-0.9778,  0.7292,  0.6241]])\n",
      "INCORRECT: OnSite == Hybrid\n",
      "tensor([[-0.1608, -1.3682,  2.0774]])\n",
      "CORRECT: Remote == Remote\n",
      "tensor([[-1.9091,  2.9563, -1.1039]])\n",
      "CORRECT: OnSite == OnSite\n",
      "tensor([[ 1.6369, -1.2632,  0.5051]])\n",
      "CORRECT: Hybrid == Hybrid\n",
      "tensor([[-0.0442, -1.2531,  1.7437]])\n",
      "INCORRECT: Remote == OnSite\n",
      "tensor([[ 2.4646, -2.0994,  0.7555]])\n",
      "CORRECT: Hybrid == Hybrid\n",
      "tensor([[ 1.4908, -1.7373,  1.0250]])\n",
      "INCORRECT: Hybrid == Remote\n",
      "tensor([[-1.1164,  0.4177,  1.2453]])\n",
      "CORRECT: Remote == Remote\n",
      "tensor([[ 0.8875, -1.1703,  0.9888]])\n",
      "CORRECT: Remote == Remote\n",
      "tensor([[-0.1461, -0.1788,  0.7053]])\n",
      "INCORRECT: Remote == Hybrid\n",
      "tensor([[ 2.1248, -1.6926,  0.6061]])\n",
      "INCORRECT: Hybrid == OnSite\n",
      "tensor([[ 0.1958, -0.5017,  1.0490]])\n",
      "INCORRECT: Remote == OnSite\n",
      "tensor([[ 1.3525, -1.3910,  0.8285]])\n",
      "CORRECT: Hybrid == Hybrid\n",
      "tensor([[-1.7660,  3.0046, -1.1887]])\n",
      "CORRECT: OnSite == OnSite\n",
      "tensor([[-1.8113,  2.8558, -1.0631]])\n",
      "CORRECT: OnSite == OnSite\n",
      "tensor([[ 2.7880, -1.8130,  0.3013]])\n",
      "CORRECT: Hybrid == Hybrid\n",
      "tensor([[-1.6840,  2.4887, -0.6331]])\n",
      "CORRECT: OnSite == OnSite\n",
      "tensor([[ 2.1098, -1.6430,  0.5320]])\n",
      "INCORRECT: Hybrid == Remote\n",
      "tensor([[ 1.9538, -1.6244,  0.2733]])\n",
      "INCORRECT: Hybrid == OnSite\n",
      "tensor([[ 1.4583, -1.4231,  0.5274]])\n",
      "INCORRECT: Hybrid == Remote\n",
      "tensor([[-1.9099,  3.0465, -1.1288]])\n",
      "CORRECT: OnSite == OnSite\n",
      "tensor([[-1.8396,  2.8357, -0.9713]])\n",
      "CORRECT: OnSite == OnSite\n",
      "tensor([[0.2410, 0.1430, 0.1539]])\n",
      "CORRECT: Hybrid == Hybrid\n",
      "tensor([[ 1.3369, -1.5272,  1.0056]])\n",
      "INCORRECT: Hybrid == OnSite\n",
      "tensor([[-0.3902, -0.9599,  1.7580]])\n",
      "INCORRECT: Remote == Hybrid\n",
      "tensor([[ 0.7024, -1.5544,  1.2640]])\n",
      "INCORRECT: Remote == OnSite\n",
      "tensor([[ 0.3554, -1.5005,  1.7925]])\n",
      "CORRECT: Remote == Remote\n",
      "tensor([[ 2.3567, -1.4894,  0.3649]])\n",
      "CORRECT: Hybrid == Hybrid\n",
      "tensor([[-1.6876,  3.2015, -1.3856]])\n",
      "CORRECT: OnSite == OnSite\n",
      "tensor([[ 0.2049, -0.9318,  1.1548]])\n",
      "INCORRECT: Remote == OnSite\n",
      "tensor([[-1.8865,  3.1300, -1.2604]])\n",
      "CORRECT: OnSite == OnSite\n",
      "tensor([[-0.7675, -0.2789,  1.5575]])\n",
      "INCORRECT: Remote == Hybrid\n",
      "tensor([[-0.5953, -0.1443,  1.0523]])\n",
      "CORRECT: Remote == Remote\n",
      "tensor([[-0.1133, -1.1656,  2.0118]])\n",
      "INCORRECT: Remote == OnSite\n",
      "tensor([[-1.2913,  0.3548,  1.2886]])\n",
      "INCORRECT: Remote == OnSite\n",
      "tensor([[-0.0036, -1.4047,  2.1903]])\n",
      "CORRECT: Remote == Remote\n",
      "tensor([[ 0.3974, -0.9837,  0.9988]])\n",
      "INCORRECT: Remote == OnSite\n",
      "tensor([[ 0.2102, -0.6910,  0.9626]])\n",
      "INCORRECT: Remote == Hybrid\n",
      "tensor([[-1.8986,  2.8543, -0.9766]])\n",
      "CORRECT: OnSite == OnSite\n",
      "tensor([[-1.0895,  0.0518,  1.2635]])\n",
      "INCORRECT: Remote == OnSite\n",
      "tensor([[ 0.4905, -0.5922,  0.5368]])\n",
      "INCORRECT: Remote == OnSite\n",
      "Accuracy = 0.46464646464646464\n"
     ]
    }
   ],
   "source": [
    "# Set the model in evaluation mode\n",
    "model.eval()\n",
    "\n",
    "correct = 0\n",
    "predictions = []\n",
    "\n",
    "with torch.no_grad():\n",
    "    for i in range(len(data)):\n",
    "        sample = data[i]\n",
    "\n",
    "        input_ids = sample[\"input_ids\"].unsqueeze(0).to(device)\n",
    "        attention_mask = sample[\"attention_mask\"].unsqueeze(0).to(device)\n",
    "        outputs = model(input_ids=input_ids,\n",
    "                        attention_mask=attention_mask)\n",
    "        \n",
    "        logits = outputs.logits\n",
    "        #print(logits)\n",
    "        pred = torch.argmax(logits, dim=1)  #returns tensor\n",
    "        predicted_label = id2label[pred.item()]\n",
    "        predictions.append(predicted_label)\n",
    "\n",
    "        if predicted_label == sample['y_true']:\n",
    "            correct+=1\n",
    "\n",
    "print(f\"Accuracy = {correct/len(data)}\")\n"
   ]
  },
  {
   "cell_type": "code",
   "execution_count": null,
   "metadata": {},
   "outputs": [],
   "source": [
    "from eval import *\n",
    "\n",
    "p = precision([\"Remote\", \"Hybrid\", \"OnSite\"], data['y_true'], predictions)\n",
    "print(p)\n",
    "r = recall([\"Remote\", \"Hybrid\", \"OnSite\"], data['y_true'], predictions)\n",
    "print(r)"
   ]
  }
 ],
 "metadata": {
  "kernelspec": {
   "display_name": ".venv",
   "language": "python",
   "name": "python3"
  },
  "language_info": {
   "codemirror_mode": {
    "name": "ipython",
    "version": 3
   },
   "file_extension": ".py",
   "mimetype": "text/x-python",
   "name": "python",
   "nbconvert_exporter": "python",
   "pygments_lexer": "ipython3",
   "version": "3.12.3"
  }
 },
 "nbformat": 4,
 "nbformat_minor": 2
}
