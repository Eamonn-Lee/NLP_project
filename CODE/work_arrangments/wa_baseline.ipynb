{
 "cells": [
  {
   "cell_type": "code",
   "execution_count": null,
   "metadata": {},
   "outputs": [
    {
     "name": "stderr",
     "output_type": "stream",
     "text": [
      "[nltk_data] Downloading package punkt_tab to /home/jar/nltk_data...\n",
      "[nltk_data]   Package punkt_tab is already up-to-date!\n"
     ]
    }
   ],
   "source": [
    "import pandas as pd\n",
    "import nltk\n",
    "import numpy as np\n",
    "\n",
    "from nltk.tokenize import word_tokenize\n",
    "nltk.download('punkt_tab')\n",
    "\n",
    "from collections import Counter\n",
    "\n",
    "#fp = \"../DATASETS/work_arrangements_development_set.csv\"\n",
    "fp = \"../../MISC/work_arrangements_test_set.csv\"\n",
    "df = pd.read_csv(fp)"
   ]
  },
  {
   "cell_type": "code",
   "execution_count": 6,
   "metadata": {},
   "outputs": [],
   "source": [
    "def wa_classifier(text):\n",
    "    \"\"\"\n",
    "    Baseline Bag-of-words frequency classifier\n",
    "    \"\"\"\n",
    "\n",
    "    bow_freq = {\n",
    "        \"remote\": 0,\n",
    "        \"onsite\": 0,\n",
    "        \"hybrid\": 0\n",
    "    }\n",
    "    text = word_tokenize(text.lower())\n",
    "\n",
    "    token_count = Counter(text)\n",
    "    for cat in bow_freq:\n",
    "        bow_freq[cat] = token_count[cat]\n",
    "    \n",
    "    res = max(bow_freq, key=bow_freq.get)\n",
    "\n",
    "    return (''.join(res[0].upper() + res[1:])) if res == \"remote\" or res == \"hybrid\" else \"OnSite\"  #capitalisation\n",
    "\n",
    "#Apply\n",
    "df['predicted_wa'] = df[\"job_ad\"].apply(wa_classifier)\n"
   ]
  },
  {
   "cell_type": "code",
   "execution_count": 7,
   "metadata": {},
   "outputs": [
    {
     "name": "stdout",
     "output_type": "stream",
     "text": [
      "\n",
      "Accuracy: 42.42%\n",
      "{'AVERAGE': 0.7056910569105691,\n",
      " 'Hybrid': 1.0,\n",
      " 'OnSite': 0.8,\n",
      " 'Remote': 0.3170731707317073}\n",
      "{'AVERAGE': 0.5104669887278582,\n",
      " 'Hybrid': 0.4444444444444444,\n",
      " 'OnSite': 0.08695652173913043,\n",
      " 'Remote': 1.0}\n"
     ]
    }
   ],
   "source": [
    "from eval import *\n",
    "from pprint import pprint\n",
    "\n",
    "#Accuracy\n",
    "accuracy = np.mean(df['predicted_wa'] == df['y_true'])\n",
    "print(f\"\\nAccuracy: {accuracy:.2%}\")\n",
    "\n",
    "p = precision([\"Remote\", \"Hybrid\", \"OnSite\"], df['y_true'], df['predicted_wa'])\n",
    "pprint(p)\n",
    "\n",
    "r = recall([\"Remote\", \"Hybrid\", \"OnSite\"], df['y_true'], df['predicted_wa'])\n",
    "pprint(r)"
   ]
  }
 ],
 "metadata": {
  "kernelspec": {
   "display_name": ".venv",
   "language": "python",
   "name": "python3"
  },
  "language_info": {
   "codemirror_mode": {
    "name": "ipython",
    "version": 3
   },
   "file_extension": ".py",
   "mimetype": "text/x-python",
   "name": "python",
   "nbconvert_exporter": "python",
   "pygments_lexer": "ipython3",
   "version": "3.12.3"
  }
 },
 "nbformat": 4,
 "nbformat_minor": 2
}
