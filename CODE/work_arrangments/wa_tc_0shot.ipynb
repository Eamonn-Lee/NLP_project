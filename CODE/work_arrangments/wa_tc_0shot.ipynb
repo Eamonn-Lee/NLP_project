{
 "cells": [
  {
   "cell_type": "markdown",
   "metadata": {},
   "source": [
    "Zero shot classifier - https://huggingface.co/facebook/bart-large-mnli"
   ]
  },
  {
   "cell_type": "code",
   "execution_count": 1,
   "metadata": {},
   "outputs": [],
   "source": [
    "import pandas as pd\n",
    "from datasets import Dataset\n",
    "from transformers import pipeline"
   ]
  },
  {
   "cell_type": "code",
   "execution_count": 2,
   "metadata": {},
   "outputs": [
    {
     "name": "stderr",
     "output_type": "stream",
     "text": [
      "Device set to use cuda:0\n"
     ]
    }
   ],
   "source": [
    "classifier = pipeline(\"zero-shot-classification\",\n",
    "                      model=\"facebook/bart-large-mnli\") #built to understand natural language\n",
    "candidate_labels = ['Hybrid', 'OnSite', 'Remote']"
   ]
  },
  {
   "cell_type": "markdown",
   "metadata": {},
   "source": [
    "Classifier function"
   ]
  },
  {
   "cell_type": "code",
   "execution_count": 3,
   "metadata": {},
   "outputs": [],
   "source": [
    "def classify(text):\n",
    "    \"\"\"\n",
    "    wrapper for classifier pipeling function\n",
    "        relies on classifier and labels being defined earlier!\n",
    "    \"\"\"\n",
    "    out = classifier(text, candidate_labels)\n",
    "    label2score = list(zip(out['labels'], out['scores']))\n",
    "    predicted_label = max(label2score, key=lambda x: x[1])[0]    #get label of largest confidence score\n",
    "\n",
    "    return predicted_label\n",
    "\n",
    "    "
   ]
  },
  {
   "cell_type": "markdown",
   "metadata": {},
   "source": [
    "Eval"
   ]
  },
  {
   "cell_type": "code",
   "execution_count": 4,
   "metadata": {},
   "outputs": [],
   "source": [
    "#get test data\n",
    "\n",
    "fp_test = \"../../MISC/work_arrangements_test_set.csv\"\n",
    "df_test = pd.read_csv(fp_test)\n",
    "df_test.drop(\"id\", axis=1, inplace=True) #get rid of id column\n",
    "df_test.rename(columns={\"job_ad\": \"text\"}, inplace=True)\n",
    "\n",
    "df_test\n",
    "testdata = Dataset.from_pandas(df_test)\n"
   ]
  },
  {
   "cell_type": "code",
   "execution_count": 5,
   "metadata": {},
   "outputs": [
    {
     "name": "stderr",
     "output_type": "stream",
     "text": [
      "You seem to be using the pipelines sequentially on GPU. In order to maximize efficiency please use a dataset\n"
     ]
    },
    {
     "name": "stdout",
     "output_type": "stream",
     "text": [
      "Accuracy = 0.494949494949495\n"
     ]
    }
   ],
   "source": [
    "correct = 0\n",
    "predictions = []\n",
    "\n",
    "\n",
    "for i in range(len(testdata)):\n",
    "    sample = testdata[i]\n",
    "\n",
    "    predicted_label = classify(sample['text'])\n",
    "    predictions.append(predicted_label)\n",
    "\n",
    "    if predicted_label == sample['y_true']:\n",
    "        correct+=1\n",
    "\n",
    "print(f\"Accuracy = {correct/len(testdata)}\")\n"
   ]
  },
  {
   "cell_type": "code",
   "execution_count": 6,
   "metadata": {},
   "outputs": [
    {
     "name": "stdout",
     "output_type": "stream",
     "text": [
      "{'Remote': 0.8333333333333334, 'Hybrid': 0.34782608695652173, 'OnSite': 0.8333333333333334, 'AVERAGE': 0.6714975845410628}\n",
      "{'Remote': 0.7692307692307693, 'Hybrid': 0.8888888888888888, 'OnSite': 0.10869565217391304, 'AVERAGE': 0.5889384367645237}\n"
     ]
    }
   ],
   "source": [
    "from eval import *\n",
    "\n",
    "p = precision([\"Remote\", \"Hybrid\", \"OnSite\"], testdata['y_true'], predictions)\n",
    "print(p)\n",
    "r = recall([\"Remote\", \"Hybrid\", \"OnSite\"], testdata['y_true'], predictions)\n",
    "print(r)"
   ]
  },
  {
   "cell_type": "markdown",
   "metadata": {},
   "source": [
    "Gradio Demo"
   ]
  },
  {
   "cell_type": "code",
   "execution_count": 7,
   "metadata": {},
   "outputs": [
    {
     "name": "stdout",
     "output_type": "stream",
     "text": [
      "* Running on local URL:  http://127.0.0.1:7860\n",
      "* Running on public URL: https://1a581aea5705320031.gradio.live\n",
      "\n",
      "This share link expires in 1 week. For free permanent hosting and GPU upgrades, run `gradio deploy` from the terminal in the working directory to deploy to Hugging Face Spaces (https://huggingface.co/spaces)\n"
     ]
    },
    {
     "data": {
      "text/html": [
       "<div><iframe src=\"https://1a581aea5705320031.gradio.live\" width=\"100%\" height=\"500\" allow=\"autoplay; camera; microphone; clipboard-read; clipboard-write;\" frameborder=\"0\" allowfullscreen></iframe></div>"
      ],
      "text/plain": [
       "<IPython.core.display.HTML object>"
      ]
     },
     "metadata": {},
     "output_type": "display_data"
    },
    {
     "data": {
      "text/plain": []
     },
     "execution_count": 7,
     "metadata": {},
     "output_type": "execute_result"
    }
   ],
   "source": [
    "import gradio as gr\n",
    "\n",
    "demo = gr.Interface(\n",
    "    fn=classify,\n",
    "    inputs=gr.Textbox(lines=2, placeholder=\"Input Job ad\"),\n",
    "    outputs=gr.Textbox(),\n",
    "    title=\"Work arrangement 0-shot classifier\",\n",
    "    description=\"This model utilises BART-large-MNLI, using an understanding of natural language to predict the work arrangements of a job ad\"\n",
    ")\n",
    "\n",
    "demo.launch(share=True)"
   ]
  }
 ],
 "metadata": {
  "kernelspec": {
   "display_name": ".venv",
   "language": "python",
   "name": "python3"
  },
  "language_info": {
   "codemirror_mode": {
    "name": "ipython",
    "version": 3
   },
   "file_extension": ".py",
   "mimetype": "text/x-python",
   "name": "python",
   "nbconvert_exporter": "python",
   "pygments_lexer": "ipython3",
   "version": "3.12.3"
  }
 },
 "nbformat": 4,
 "nbformat_minor": 2
}
