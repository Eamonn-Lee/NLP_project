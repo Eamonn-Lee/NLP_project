{
 "cells": [
  {
   "cell_type": "markdown",
   "id": "d00faae9",
   "metadata": {},
   "source": [
    "fine-tuned Causal model via lora - Adapted from week5 tutorial"
   ]
  },
  {
   "cell_type": "code",
   "execution_count": 3,
   "id": "a4be5f69",
   "metadata": {},
   "outputs": [],
   "source": [
    "# Source: https://github.com/huggingface/peft/blob/main/examples/int8_training/Finetune_opt_bnb_peft.ipynb\n",
    "\n",
    "from transformers import AutoModelForCausalLM\n",
    "from transformers import AutoTokenizer\n",
    "import pandas as pd\n",
    "import torch\n",
    "from datasets import Dataset\n",
    "from peft import get_peft_config, get_peft_model, LoraConfig, TaskType"
   ]
  },
  {
   "cell_type": "code",
   "execution_count": null,
   "id": "0807e065",
   "metadata": {},
   "outputs": [
    {
     "name": "stdout",
     "output_type": "stream",
     "text": [
      "cpu\n",
      "50265\n"
     ]
    }
   ],
   "source": [
    "device = torch.cuda.current_device() if torch.cuda.is_available() else \"cpu\" # This line checks if a GPU is available and sets the device to GPU (e.g., cuda:0) or CPU.\n",
    "#device = \"cpu\"\n",
    "print(device)\n",
    "\n",
    "# Initialise the model and tokenizer to a pre-trained model.\n",
    "model = AutoModelForCausalLM.from_pretrained(\"facebook/opt-350m\").to(device)\n",
    "tokenizer = AutoTokenizer.from_pretrained(\"facebook/opt-350m\")\n",
    "\n",
    "print(tokenizer.vocab_size) "
   ]
  },
  {
   "cell_type": "markdown",
   "id": "2d23d0e9",
   "metadata": {},
   "source": [
    "GPU safety checks"
   ]
  },
  {
   "cell_type": "code",
   "execution_count": 5,
   "id": "a615a806",
   "metadata": {},
   "outputs": [
    {
     "name": "stdout",
     "output_type": "stream",
     "text": [
      "2.6.0\n",
      "CUDA Available: False\n"
     ]
    }
   ],
   "source": [
    "import os\n",
    "\n",
    "os.environ[\"CUDA_LAUNCH_BLOCKING\"] = \"1\"\n",
    "\n",
    "print(torch.__version__)\n",
    "print(\"CUDA Available:\", torch.cuda.is_available())\n",
    "if torch.cuda.is_available():\n",
    "    print(\"Device:\", torch.cuda.get_device_name(0))\n",
    "    print(\"Memory allocated:\", torch.cuda.memory_allocated())"
   ]
  },
  {
   "cell_type": "markdown",
   "id": "e61caa17",
   "metadata": {},
   "source": [
    "Lora Training"
   ]
  },
  {
   "cell_type": "code",
   "execution_count": 6,
   "id": "ac333ffd",
   "metadata": {},
   "outputs": [
    {
     "name": "stdout",
     "output_type": "stream",
     "text": [
      "trainable params: 786,432 || all params: 331,982,848 || trainable%: 0.2369\n"
     ]
    },
    {
     "data": {
      "text/plain": [
       "peft.peft_model.PeftModelForCausalLM"
      ]
     },
     "execution_count": 6,
     "metadata": {},
     "output_type": "execute_result"
    }
   ],
   "source": [
    "peft_config = LoraConfig(\n",
    "    task_type=TaskType.CAUSAL_LM, inference_mode=False, r=8, lora_alpha=32, lora_dropout=0.1\n",
    ")\n",
    "\n",
    "model = get_peft_model(model, peft_config)\n",
    "\n",
    "#checks\n",
    "model.print_trainable_parameters()\n",
    "type(model)"
   ]
  },
  {
   "cell_type": "markdown",
   "id": "687e1ec4",
   "metadata": {},
   "source": [
    "Training Data"
   ]
  },
  {
   "cell_type": "code",
   "execution_count": null,
   "id": "d872ec6f",
   "metadata": {},
   "outputs": [
    {
     "name": "stdout",
     "output_type": "stream",
     "text": [
      "                                                 text  y_true\n",
      "0   Job title: CEO\\nAbstract: Exciting opportunity...  Remote\n",
      "1   Job title: Home-Based Online ESL Teacher (Onli...  Remote\n",
      "2   Job title: Safeguarding, De La Salle\\nAbstract...  Hybrid\n",
      "3   Job title: Delivery Driver\\nAbstract: Pickup t...  OnSite\n",
      "4   Job title: Store Supervisor\\nAbstract: We are ...  OnSite\n",
      "..                                                ...     ...\n",
      "94  Job title: Senior Pipeline Technical Director\\...  Hybrid\n",
      "95  Job title: Customer Support Administrator\\nAbs...  OnSite\n",
      "96  Job title: Remote Writing Evaluator for AI (As...  Remote\n",
      "97  Job title: People & Culture Advisor\\nAbstract:...  Hybrid\n",
      "98  Job title: Draftsperson\\nAbstract: Residential...  Hybrid\n",
      "\n",
      "[99 rows x 2 columns]\n"
     ]
    }
   ],
   "source": [
    "import pandas as pd\n",
    "\n",
    "fp = \"../../MISC/work_arrangements_development_set.csv\"\n",
    "df = pd.read_csv(fp)\n",
    "df.drop(\"id\", axis=1, inplace=True) #get rid of id column\n",
    "df.rename(columns={\"job_ad\": \"text\"}, inplace=True)\n",
    "\n",
    "data = Dataset.from_pandas(df)\n",
    "\n",
    "print(df)"
   ]
  },
  {
   "cell_type": "markdown",
   "id": "a6c6ee49",
   "metadata": {},
   "source": [
    "Training"
   ]
  },
  {
   "cell_type": "code",
   "execution_count": 8,
   "id": "bae1831f",
   "metadata": {},
   "outputs": [
    {
     "data": {
      "application/vnd.jupyter.widget-view+json": {
       "model_id": "8b6a6487caee4b198e33c9b7ea7ccddc",
       "version_major": 2,
       "version_minor": 0
      },
      "text/plain": [
       "Map:   0%|          | 0/99 [00:00<?, ? examples/s]"
      ]
     },
     "metadata": {},
     "output_type": "display_data"
    },
    {
     "data": {
      "application/vnd.jupyter.widget-view+json": {
       "model_id": "2934d69260514c4eb3b5f3e4c908f686",
       "version_major": 2,
       "version_minor": 0
      },
      "text/plain": [
       "Map:   0%|          | 0/99 [00:00<?, ? examples/s]"
      ]
     },
     "metadata": {},
     "output_type": "display_data"
    },
    {
     "data": {
      "application/vnd.jupyter.widget-view+json": {
       "model_id": "ddc76e03367f41bc8fec820b75454184",
       "version_major": 2,
       "version_minor": 0
      },
      "text/plain": [
       "Map:   0%|          | 0/99 [00:00<?, ? examples/s]"
      ]
     },
     "metadata": {},
     "output_type": "display_data"
    }
   ],
   "source": [
    "import transformers\n",
    "\n",
    "def train_prompt_format(example):\n",
    "    label = example['y_true']\n",
    "    return f\"{example['text']}\\nWhat is the work arrangement of this job ad? You must return either Onsite, Remote or Hybrid\\n Label: {label}\"\n",
    "\n",
    "data = data.map(lambda samples: {\"prompt\": train_prompt_format(samples)}, batched=False,remove_columns=[\"text\", \"y_true\"])   #remove unneeded labels(both saved into prompt)\n",
    "data = data.map(lambda samples: tokenizer(samples['prompt'], truncation=True, padding=\"max_length\", max_length=2048), batched=True)  # Tokenize with fixed length\n",
    "data = data.map(lambda samples: {\"labels\": samples[\"input_ids\"]}, batched=False)  # Set labels as input_ids for causal LM"
   ]
  },
  {
   "cell_type": "code",
   "execution_count": null,
   "id": "baf91ee0",
   "metadata": {},
   "outputs": [
    {
     "name": "stderr",
     "output_type": "stream",
     "text": [
      "No label_names provided for model class `PeftModelForCausalLM`. Since `PeftModel` hides base models input arguments, if label_names is not given, label_names can't be set automatically within `Trainer`. Note that empty label_names list will be used instead.\n"
     ]
    },
    {
     "data": {
      "text/html": [
       "\n",
       "    <div>\n",
       "      \n",
       "      <progress value='18' max='18' style='width:300px; height:20px; vertical-align: middle;'></progress>\n",
       "      [18/18 1:01:42, Epoch 2/3]\n",
       "    </div>\n",
       "    <table border=\"1\" class=\"dataframe\">\n",
       "  <thead>\n",
       " <tr style=\"text-align: left;\">\n",
       "      <th>Step</th>\n",
       "      <th>Training Loss</th>\n",
       "    </tr>\n",
       "  </thead>\n",
       "  <tbody>\n",
       "    <tr>\n",
       "      <td>10</td>\n",
       "      <td>3.291000</td>\n",
       "    </tr>\n",
       "  </tbody>\n",
       "</table><p>"
      ],
      "text/plain": [
       "<IPython.core.display.HTML object>"
      ]
     },
     "metadata": {},
     "output_type": "display_data"
    },
    {
     "data": {
      "text/plain": [
       "TrainOutput(global_step=18, training_loss=3.294173240661621, metrics={'train_runtime': 3965.4271, 'train_samples_per_second': 0.075, 'train_steps_per_second': 0.005, 'total_flos': 979179461935104.0, 'train_loss': 3.294173240661621, 'epoch': 2.64})"
      ]
     },
     "execution_count": 10,
     "metadata": {},
     "output_type": "execute_result"
    }
   ],
   "source": [
    "trainer = transformers.Trainer(\n",
    "    model=model,\n",
    "    train_dataset=data,\n",
    "    args=transformers.TrainingArguments(\n",
    "        num_train_epochs=3,\n",
    "        learning_rate=2e-5,\n",
    "        gradient_accumulation_steps=4,\n",
    "        per_device_train_batch_size=4, \n",
    "        output_dir=\"./outputs\",\n",
    "        logging_steps=10,           # Log every 10 steps to monitor progress\n",
    "        disable_tqdm=False,         # Enable progress bar (optional)\n",
    "    ),\n",
    "    data_collator=transformers.DataCollatorForLanguageModeling(tokenizer, mlm=False)\n",
    ")\n",
    "\n",
    "trainer.train()"
   ]
  },
  {
   "cell_type": "markdown",
   "id": "411cc497",
   "metadata": {},
   "source": [
    "eval"
   ]
  },
  {
   "cell_type": "code",
   "execution_count": null,
   "id": "df800049",
   "metadata": {},
   "outputs": [
    {
     "name": "stdout",
     "output_type": "stream",
     "text": [
      "Dataset({\n",
      "    features: ['text', 'y_true'],\n",
      "    num_rows: 99\n",
      "})\n",
      "{'text': 'Job title: Restaurant Kitchen Hand\\nAbstract: We are seeking experienced Kitchen Hand to join our hospitality team.\\nEmployer: Catering HQ\\nLocation: pitttown\\nHighlights: opportunity for growth, Opportunity to work in an industry leading hospitality group, Positive, fun and supportive work culture\\nContents: We are currently searching for talented and polished Full Time Kitchen Hands to join our hospitality team.\\n Key duties\\n Thorough cleaning of the kitchen, including dishes and floors, Food preparation assistance, Stock rotation and stock control, Ensuring to follow all health and safety procedures when caring out all tasks, Any other adhoc duties as required by our fantastic Chefs and Management, Operating a commercial dishwasher to a high standard, Assist with general kitchen duties under the direction of the Head Chef.\\n The Person \\n Previous relevant experience in a high-volume catering/kitchen hand role is essential, Commercial kitchen experience essential, Knowledge of WH&S guidelines, Able to work a variety of shifts including morning, afternoons, evenings, Ability to take direction, Flexible availability, Youâ€™ll be a team player, fluent in English and have an eye for detail, Weâ€™d love it if you brought knife skills!.', 'y_true': 'OnSite'}\n"
     ]
    }
   ],
   "source": [
    "#get test data\n",
    "\n",
    "fp = \"../../MISC/work_arrangements_test_set.csv\"\n",
    "df = pd.read_csv(fp)\n",
    "df.drop(\"id\", axis=1, inplace=True) #get rid of id column\n",
    "df.rename(columns={\"job_ad\": \"text\"}, inplace=True)\n",
    "\n",
    "data = Dataset.from_pandas(df)\n",
    "\n",
    "print(data)\n",
    "print(data[0])"
   ]
  },
  {
   "cell_type": "code",
   "execution_count": 12,
   "id": "a723ddd6",
   "metadata": {},
   "outputs": [],
   "source": [
    "def prompt_format(example):\n",
    "    prompt = f\"{example['text']}\\nWhat is the work arrangement of this job ad? You must return either Onsite, Remote or Hybrid\\n Label:\"\n",
    "    return prompt"
   ]
  },
  {
   "cell_type": "code",
   "execution_count": null,
   "id": "d763b69d",
   "metadata": {},
   "outputs": [
    {
     "name": "stdout",
     "output_type": "stream",
     "text": [
      " Job Description\n",
      "Job Description\n",
      " This ad is for a\n",
      "\n",
      "\n",
      "Job Title:\n",
      " Job Description\n",
      "LaunchPad\n",
      "\n",
      "\n",
      "Job Title:\n",
      " Yes\n",
      "\n",
      "Job Description\n",
      " Job Description\n",
      "The Business\n",
      " Work From Home\n",
      "\n",
      "\n",
      " Job Description\n",
      "Job Description\n",
      " \"Teleradiologist\"\n",
      " Job Description\n",
      "We are\n",
      "\n",
      "\n",
      "Job Title:\n",
      " \"Job Description\"\n",
      "\n",
      " This ad is for a\n",
      " \"Customer Xperience\n",
      "\n",
      "\n",
      "Job Title:\n",
      " Cardiothorac\n",
      " https://www.gl\n",
      " https://www.air\n",
      " \"Remote Financial Adviser\"\n",
      " https://www.creat\n",
      " \"Jord International\"\n",
      " Job Description\n",
      "Job Description\n",
      " \"Social Media and Content\n",
      "\n",
      "\n",
      "We are looking\n",
      " \"Transport Operations\"\n",
      " Work from Home\n",
      "\n",
      "\n",
      " Job Description\n",
      "Job Description\n",
      " Job Description\n",
      "KMC\n",
      " \"Campaigns & Digital\n",
      " \"Dental Assistant/\n",
      " The job title is Train\n",
      " https://www.av\n",
      " Job Description\n",
      "Job Description\n",
      " Job Description\n",
      "Bitut\n",
      "\n",
      "Job Description\n",
      "Microsoft\n",
      " \"Administration Clerk\"\n",
      "\n",
      "\n",
      "Job Title:\n",
      "\n",
      "\n",
      "Job Description:\n",
      " Job Description\n",
      "Job Description\n",
      " Job Description:\n",
      "The\n",
      " \"Digital PR Executive\"\n",
      " \"Open to new grad\n",
      "\n",
      "\n",
      "Job Title:\n",
      "\n",
      "\n",
      "Job Title:\n",
      " \"HR Advisor\"\n",
      "\n",
      " \"Clear Health Mental Health\n",
      " \"Accounts Admin\"\n",
      " Work From Home\n",
      "\n",
      "\n",
      " Job Description\n",
      "We are\n",
      " Job Description\n",
      "Job Description\n",
      "\n",
      "\n",
      "Job Title:\n",
      " Job Description\n",
      "Job Description\n",
      " \"Project Manager\"\n",
      "\n",
      " JJ&S Waste\n",
      " \"Key Media\"\n",
      "\n",
      "\n",
      "\n",
      "Job Title:\n",
      " \"Go-to-\n",
      "\n",
      "\n",
      "Job Title:\n",
      " Full Time / Part Time\n",
      " AFL Footy Shop\n",
      "\n",
      " The job title \"Ins\n",
      " https://www.sy\n",
      " \"LegalVision\"\n",
      "\n",
      " \"Job Description\"\n",
      "\n",
      "\n",
      "Job Description\n",
      "We\n",
      " Job Description\n",
      "TaskUs\n",
      " \"WPP\"\n",
      "\n",
      " \"Senior Communications and St\n",
      " \"Risk & Compliance\n",
      " N/A\n",
      "\n",
      "\n",
      " \"Job Description\"\n",
      "\n",
      "\n",
      "\n",
      "Job Title:\n",
      "\n",
      "\n",
      "Job Title:\n",
      " \"Bookkeeper\"\n",
      "\n",
      "\n",
      "\n",
      "Job Description:\n",
      " \"ERM\"\n",
      "\n",
      " https://www.lif\n",
      "\n",
      "\n",
      "Job Title:\n",
      " \"The Coast\"\n",
      "\n",
      " Job Description\n",
      "Job Description\n",
      " Job Description\n",
      "Attollo\n",
      "\n",
      "\n",
      "Job Title:\n",
      " Job Description\n",
      "Job Description\n",
      "\n",
      "\n",
      "Job Title:\n",
      " Job Description\n",
      "BePos\n",
      " \"Autism Partnership\"\n",
      " \"BLA\"\n",
      "\n",
      " Job Description\n",
      "Procom\n",
      " \"Ambassador Travel Industry\n",
      " Yes\n",
      "Job Description:\n",
      " \"Job Description\"\n",
      "\n",
      " https://www.tr\n",
      " BPO\n",
      "Job Description\n",
      "\n",
      "\n",
      "Job Title:\n",
      " \"Startek\"\n",
      "\n",
      " \"Streamline\"\n",
      "\n",
      " \"Landscaping\"\n",
      " Job Description\n",
      "We are\n",
      "Valid: 0 / 99 == 0.0\n",
      "correct(Accuracy): 0 / 99 == 0.0\n"
     ]
    }
   ],
   "source": [
    "# Set the model in evaluation mode\n",
    "model.eval()\n",
    "\n",
    "valid = 0\n",
    "correct = 0\n",
    "answers = [\"Onsite\", \"Remote\", \"Hybrid\"]\n",
    "\n",
    "with torch.no_grad():\n",
    "    for i in range(len(data)):\n",
    "    #for i in range(10):\n",
    "        sample = prompt_format(data[i])\n",
    "        input = tokenizer(sample, return_tensors=\"pt\").to(device)\n",
    "        output_tokens = model.generate(**input, do_sample=False, num_beams=5, no_repeat_ngram_size=2, early_stopping=True, max_new_tokens=5)\n",
    "\n",
    "        out_text = tokenizer.decode(output_tokens[0], skip_special_tokens=True)\n",
    "        out_text = out_text[len(sample):]   #raw new output\n",
    "\n",
    "        if out_text[0] in answers:\n",
    "            valid += 1\n",
    "            if out_text[0] == sample['y_true']:\n",
    "                correct += 1\n",
    "\n",
    "print(f\"Valid: {valid} / {len(data)} == {valid / len(data)}\")\n",
    "print(f\"Correct(Accuracy): {correct} / {len(data)} == {correct / len(data)}\")"
   ]
  }
 ],
 "metadata": {
  "kernelspec": {
   "display_name": ".venv",
   "language": "python",
   "name": "python3"
  },
  "language_info": {
   "codemirror_mode": {
    "name": "ipython",
    "version": 3
   },
   "file_extension": ".py",
   "mimetype": "text/x-python",
   "name": "python",
   "nbconvert_exporter": "python",
   "pygments_lexer": "ipython3",
   "version": "3.12.3"
  }
 },
 "nbformat": 4,
 "nbformat_minor": 5
}
