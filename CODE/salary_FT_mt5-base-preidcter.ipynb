{
 "cells": [
  {
   "cell_type": "code",
   "execution_count": 19,
   "metadata": {},
   "outputs": [
    {
     "name": "stderr",
     "output_type": "stream",
     "text": [
      "huggingface/tokenizers: The current process just got forked, after parallelism has already been used. Disabling parallelism to avoid deadlocks...\n",
      "To disable this warning, you can either:\n",
      "\t- Avoid using `tokenizers` before the fork if possible\n",
      "\t- Explicitly set the environment variable TOKENIZERS_PARALLELISM=(true | false)\n"
     ]
    },
    {
     "name": "stdout",
     "output_type": "stream",
     "text": [
      "Requirement already satisfied: protobuf in /Users/garry/vs_code/6713/venv/lib/python3.11/site-packages (6.30.2)\n",
      "Note: you may need to restart the kernel to use updated packages.\n",
      "True\n"
     ]
    },
    {
     "name": "stderr",
     "output_type": "stream",
     "text": [
      "Device set to use cpu\n"
     ]
    }
   ],
   "source": [
    "%pip install protobuf\n",
    "import transformers\n",
    "from transformers import pipeline\n",
    "from transformers import BertTokenizerFast, BertForQuestionAnswering, TrainingArguments, Trainer\n",
    "from transformers import AutoTokenizer, AutoModelForSeq2SeqLM, Seq2SeqTrainer, Seq2SeqTrainingArguments\n",
    "from transformers import MT5ForConditionalGeneration, MT5Tokenizer\n",
    "import pandas as pd\n",
    "import numpy as np\n",
    "import torch\n",
    "from bs4 import BeautifulSoup\n",
    "from datasets import Dataset\n",
    "import re\n",
    "print(torch.backends.mps.is_available())\n",
    "\n",
    "import sys\n",
    "sys.path.append(\"../CODE-Baseline\")  \n",
    "import warnings\n",
    "warnings.filterwarnings('ignore')\n",
    "\n",
    "\n",
    "from salary_baseline import extract_salary_with_inference\n",
    "\n",
    "\n",
    "file_path = '../DATASETS/salary_labelled_development_set.csv'\n",
    "test_file_path = '../DATASETS/salary_labelled_test_set.csv'\n",
    "df = pd.read_csv(file_path)\n",
    "tdf=pd.read_csv(test_file_path)\n",
    "model_name = \"./mt5-base-salary/checkpoint-8967\"\n",
    "tokenizer = AutoTokenizer.from_pretrained(model_name)\n",
    "model = AutoModelForSeq2SeqLM.from_pretrained(model_name)\n",
    "model.to('cpu')\n",
    "qa_pipeline = pipeline(\"text2text-generation\", model=model, tokenizer=tokenizer, device=-1)\n",
    "\n"
   ]
  },
  {
   "cell_type": "code",
   "execution_count": 20,
   "metadata": {},
   "outputs": [],
   "source": [
    "# 清理 HTML 标签\n",
    "def clean_html_tags(html_text):\n",
    "    soup = BeautifulSoup(html_text, 'html.parser')\n",
    "    for tag in soup([\"script\", \"style\"]):\n",
    "        tag.decompose()\n",
    "    return soup.get_text(separator=\"\\n\", strip=True)\n",
    "\n",
    "# 构造输入输出\n",
    "def row_to_input_output(row):\n",
    "    context = clean_html_tags(f\"{row['job_title']} {row['job_ad_details']}\")\n",
    "    prompt = (\n",
    "        \"Extract the salary info from the job ad below and return it as: \"\n",
    "        \"\\\"MinimumSalary MaximumSalary Currency PayPeriod\\\"\\n\\n\"\n",
    "    )\n",
    "    input_text = prompt + context\n",
    "    output_text = str(row[\"y_true\"]).strip().replace(\"-\", \" \")\n",
    "    return {\"input\": input_text, \"output\": output_text}\n",
    "\n",
    "# 预处理函数\n",
    "def preprocess(example):\n",
    "    model_inputs = tokenizer(example[\"input\"], max_length=512, truncation=True, padding=\"max_length\")\n",
    "    with tokenizer.as_target_tokenizer():\n",
    "        labels = tokenizer(example[\"output\"], max_length=64, truncation=True, padding=\"max_length\")[\"input_ids\"]\n",
    "    labels = [token if token != tokenizer.pad_token_id else -100 for token in labels]\n",
    "    model_inputs[\"labels\"] = labels\n",
    "    return model_inputs\n",
    "\n"
   ]
  },
  {
   "cell_type": "code",
   "execution_count": 21,
   "metadata": {},
   "outputs": [],
   "source": [
    "import re\n",
    "\n",
    "def generate_prediction(row):\n",
    "    input_text = row_to_input_output(row)[\"input\"]\n",
    "    output = qa_pipeline(input_text)\n",
    "    predict = output[0][\"generated_text\"].strip()\n",
    "\n",
    "    # 匹配格式：数字 数字 字母 字母\n",
    "    pattern = r\"^(\\d+(?:\\.\\d+)?)\\s+(\\d+(?:\\.\\d+)?)\\s+([A-Za-z]+)\\s+([A-Za-z]+)$\"\n",
    "    match = re.match(pattern, predict)\n",
    "\n",
    "    if match:\n",
    "        min_pred, max_pred, currency_pred, period_pred = match.groups()\n",
    "        # 四舍五入并转为整数\n",
    "        min_pred = str(round(float(min_pred)))\n",
    "        max_pred = str(round(float(max_pred)))\n",
    "        return f\"{min_pred}-{max_pred}-{currency_pred}-{period_pred}\"\n",
    "    else:\n",
    "        return \"0-0-None-None\"\n",
    "\n",
    "def generate_new_y_true(row):\n",
    "    output_text = row_to_input_output(row)[\"output\"]\n",
    "\n",
    "    return output_text\n",
    "  \n",
    "  \n",
    "def fuzzy_equal(predict, y_true):\n",
    "    pattern = r\"(\\d+)\\s+(\\d+)\\s+([A-Z]+)\\s+([A-Z]+)\"\n",
    "\n",
    "    if predict == \"0 0 None None\" and y_true == \"0 0 None None\":\n",
    "        return True\n",
    "\n",
    "    match_pred = re.match(pattern, predict)\n",
    "    match_true = re.match(pattern, y_true)\n",
    "\n",
    "    if not match_pred or not match_true:\n",
    "        return False  \n",
    "\n",
    "    min_pred, max_pred, currency_pred, period_pred = match_pred.groups()\n",
    "    min_true, max_true, currency_true, period_true = match_true.groups()\n",
    "\n",
    "    # 转为整数\n",
    "    min_pred, max_pred = int(min_pred), int(max_pred)\n",
    "    min_true, max_true = int(min_true), int(max_true)\n",
    "\n",
    "    # 允许1的误差\n",
    "    min_ok = abs(min_pred - min_true) <= 1\n",
    "    max_ok = abs(max_pred - max_true) <= 1\n",
    "\n",
    "    # 货币和周期必须严格相等\n",
    "    currency_ok = currency_pred == currency_true\n",
    "    period_ok = period_pred == period_true\n",
    "\n",
    "    return min_ok and max_ok and currency_ok and period_ok\n"
   ]
  },
  {
   "cell_type": "code",
   "execution_count": 22,
   "metadata": {},
   "outputs": [
    {
     "name": "stdout",
     "output_type": "stream",
     "text": [
      "Development dataset:\n",
      "Precision: 0.8465\n",
      "Recall: 0.9759\n",
      "F1 Score: 0.9066\n",
      "Accuracy: 0.9007\n"
     ]
    },
    {
     "data": {
      "text/plain": [
       "'\\nDevelopment dataset:\\nPrecision: 0.8539\\nRecall: 0.9734\\nF1 Score: 0.9098\\nAccuracy: 0.9038\\n'"
      ]
     },
     "execution_count": 22,
     "metadata": {},
     "output_type": "execute_result"
    }
   ],
   "source": [
    "\n",
    "df[\"predicted_salary\"] = df.apply(generate_prediction, axis=1)\n",
    "df[\"new_y_true\"] = df.apply(generate_new_y_true, axis=1)\n",
    "\n",
    "TP = np.sum((df['predicted_salary'] == df['new_y_true']) & (df['new_y_true'] != \"0 0 None None\"))\n",
    "FP = np.sum((df['predicted_salary'] != df['new_y_true']) & (df['predicted_salary'] != \"0 0 None None\"))\n",
    "FN = np.sum((df['predicted_salary'] == \"0 0 None None\") & (df['new_y_true'] != \"0 0 None None\"))\n",
    "TN = np.sum((df['predicted_salary'] == \"0 0 None None\") & (df['new_y_true'] == \"0 0 None None\"))\n",
    "\n",
    "\n",
    "precision = TP / (TP + FP) if (TP + FP) != 0 else 0\n",
    "recall = TP / (TP + FN) if (TP + FN) != 0 else 0\n",
    "f1 = 2 * (precision * recall) / (precision + recall) if (precision + recall) != 0 else 0\n",
    "accuracy = (TP + TN) / (FP + FN + TP + TN)\n",
    "\n",
    "print(\"Development dataset:\")\n",
    "print(f\"Precision: {precision:.4f}\")\n",
    "print(f\"Recall: {recall:.4f}\")\n",
    "print(f\"F1 Score: {f1:.4f}\")\n",
    "print(f\"Accuracy: {accuracy:.4f}\")\n",
    "\n",
    "'''\n",
    "Development dataset:\n",
    "Precision: 0.8539\n",
    "Recall: 0.9734\n",
    "F1 Score: 0.9098\n",
    "Accuracy: 0.9038\n",
    "'''\n"
   ]
  },
  {
   "cell_type": "code",
   "execution_count": 23,
   "metadata": {},
   "outputs": [
    {
     "name": "stdout",
     "output_type": "stream",
     "text": [
      "Test dataset:\n",
      "Precision: 0.7862\n",
      "Recall: 0.9579\n",
      "F1 Score: 0.8636\n",
      "Accuracy: 0.8607\n"
     ]
    },
    {
     "data": {
      "text/plain": [
       "'\\nTest dataset:\\nPrecision: 0.7918\\nRecall: 0.9544\\nF1 Score: 0.8655\\nAccuracy: 0.8624\\n'"
      ]
     },
     "execution_count": 23,
     "metadata": {},
     "output_type": "execute_result"
    }
   ],
   "source": [
    "tdf=pd.read_csv(test_file_path)\n",
    "tdf[\"predicted_salary\"] = tdf.apply(generate_prediction, axis=1)\n",
    "tdf[\"new_y_true\"] = tdf.apply(generate_new_y_true, axis=1)\n",
    "\n",
    "TP = np.sum((tdf['predicted_salary'] == tdf['new_y_true']) & (tdf['new_y_true'] != \"0 0 None None\"))\n",
    "FP = np.sum((tdf['predicted_salary'] != tdf['new_y_true']) & (tdf['predicted_salary'] != \"0 0 None None\"))\n",
    "FN = np.sum((tdf['predicted_salary'] == \"0 0 None None\") & (tdf['new_y_true'] != \"0 0 None None\"))\n",
    "TN = np.sum((tdf['predicted_salary'] == \"0 0 None None\") & (tdf['new_y_true'] == \"0 0 None None\"))\n",
    "\n",
    "\n",
    "precision = TP / (TP + FP) if (TP + FP) != 0 else 0\n",
    "recall = TP / (TP + FN) if (TP + FN) != 0 else 0\n",
    "f1 = 2 * (precision * recall) / (precision + recall) if (precision + recall) != 0 else 0\n",
    "accuracy = (TP + TN) / (FP + FN + TP + TN)\n",
    "\n",
    "print(\"Test dataset:\")\n",
    "print(f\"Precision: {precision:.4f}\")\n",
    "print(f\"Recall: {recall:.4f}\")\n",
    "print(f\"F1 Score: {f1:.4f}\")\n",
    "print(f\"Accuracy: {accuracy:.4f}\")\n",
    "\n",
    "'''\n",
    "Test dataset:\n",
    "Precision: 0.7918\n",
    "Recall: 0.9544\n",
    "F1 Score: 0.8655\n",
    "Accuracy: 0.8624\n",
    "'''"
   ]
  },
  {
   "cell_type": "code",
   "execution_count": 24,
   "metadata": {},
   "outputs": [
    {
     "name": "stdout",
     "output_type": "stream",
     "text": [
      "Development dataset:\n",
      "Precision: 0.8891\n",
      "Recall: 0.9770\n",
      "F1 Score: 0.9310\n",
      "Accuracy: 0.9250\n"
     ]
    },
    {
     "data": {
      "text/plain": [
       "'\\nDevelopment dataset:\\nPrecision: 0.8959\\nRecall: 0.9746\\nF1 Score: 0.9336\\nAccuracy: 0.9277\\n'"
      ]
     },
     "execution_count": 24,
     "metadata": {},
     "output_type": "execute_result"
    }
   ],
   "source": [
    "df['is_positive'] = df['predicted_salary'] != \"0 0 None None\"\n",
    "# fuzzy 匹配\n",
    "df['is_fuzzy_match'] = df.apply(lambda row: fuzzy_equal(row['predicted_salary'], row['new_y_true']), axis=1)\n",
    "\n",
    "# 计算 TP / FP / FN / TN\n",
    "TP = np.sum(df['is_fuzzy_match'] & df['is_positive'])\n",
    "FP = np.sum(~df['is_fuzzy_match'] & df['is_positive'])\n",
    "FN = np.sum(~df['is_fuzzy_match'] & ~df['is_positive'])\n",
    "TN = np.sum(df['is_fuzzy_match'] & ~df['is_positive'])\n",
    "\n",
    "\n",
    "precision = TP / (TP + FP) if (TP + FP) != 0 else 0\n",
    "recall = TP / (TP + FN) if (TP + FN) != 0 else 0\n",
    "f1 = 2 * (precision * recall) / (precision + recall) if (precision + recall) != 0 else 0\n",
    "accuracy = (TP + TN) / (FP + FN + TP + TN)\n",
    "\n",
    "print(\"Development dataset:\")\n",
    "print(f\"Precision: {precision:.4f}\")\n",
    "print(f\"Recall: {recall:.4f}\")\n",
    "print(f\"F1 Score: {f1:.4f}\")\n",
    "print(f\"Accuracy: {accuracy:.4f}\")\n",
    "\n",
    "'''\n",
    "Development dataset:\n",
    "Precision: 0.8959\n",
    "Recall: 0.9746\n",
    "F1 Score: 0.9336\n",
    "Accuracy: 0.9277\n",
    "'''"
   ]
  },
  {
   "cell_type": "code",
   "execution_count": 25,
   "metadata": {},
   "outputs": [
    {
     "name": "stdout",
     "output_type": "stream",
     "text": [
      "Test dataset:\n",
      "Precision: 0.8270\n",
      "Recall: 0.9599\n",
      "F1 Score: 0.8885\n",
      "Accuracy: 0.8836\n"
     ]
    },
    {
     "data": {
      "text/plain": [
       "'\\nTest dataset:\\nPrecision: 0.8360\\nRecall: 0.9567\\nF1 Score: 0.8923\\nAccuracy: 0.8871\\n'"
      ]
     },
     "execution_count": 25,
     "metadata": {},
     "output_type": "execute_result"
    }
   ],
   "source": [
    "tdf['is_positive'] = tdf['predicted_salary'] != \"0 0 None None\"\n",
    "# fuzzy 匹配\n",
    "tdf['is_fuzzy_match'] = tdf.apply(lambda row: fuzzy_equal(row['predicted_salary'], row['new_y_true']), axis=1)\n",
    "\n",
    "# 计算 TP / FP / FN / TN\n",
    "TP = np.sum(tdf['is_fuzzy_match'] & tdf['is_positive'])\n",
    "FP = np.sum(~tdf['is_fuzzy_match'] & tdf['is_positive'])\n",
    "FN = np.sum(~tdf['is_fuzzy_match'] & ~tdf['is_positive'])\n",
    "TN = np.sum(tdf['is_fuzzy_match'] & ~tdf['is_positive'])\n",
    "\n",
    "\n",
    "precision = TP / (TP + FP) if (TP + FP) != 0 else 0\n",
    "recall = TP / (TP + FN) if (TP + FN) != 0 else 0\n",
    "f1 = 2 * (precision * recall) / (precision + recall) if (precision + recall) != 0 else 0\n",
    "accuracy = (TP + TN) / (FP + FN + TP + TN)\n",
    "\n",
    "print(\"Test dataset:\")\n",
    "print(f\"Precision: {precision:.4f}\")\n",
    "print(f\"Recall: {recall:.4f}\")\n",
    "print(f\"F1 Score: {f1:.4f}\")\n",
    "print(f\"Accuracy: {accuracy:.4f}\")\n",
    "'''\n",
    "Test dataset:\n",
    "Precision: 0.8360\n",
    "Recall: 0.9567\n",
    "F1 Score: 0.8923\n",
    "Accuracy: 0.8871\n",
    "'''"
   ]
  }
 ],
 "metadata": {
  "kernelspec": {
   "display_name": "venv",
   "language": "python",
   "name": "python3"
  },
  "language_info": {
   "codemirror_mode": {
    "name": "ipython",
    "version": 3
   },
   "file_extension": ".py",
   "mimetype": "text/x-python",
   "name": "python",
   "nbconvert_exporter": "python",
   "pygments_lexer": "ipython3",
   "version": "3.11.8"
  }
 },
 "nbformat": 4,
 "nbformat_minor": 2
}
