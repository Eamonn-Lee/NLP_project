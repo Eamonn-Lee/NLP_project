{
 "cells": [
  {
   "cell_type": "code",
   "execution_count": 1,
   "metadata": {},
   "outputs": [
    {
     "name": "stderr",
     "output_type": "stream",
     "text": [
      "Device set to use mps:0\n"
     ]
    },
    {
     "name": "stdout",
     "output_type": "stream",
     "text": [
      "* Running on local URL:  http://127.0.0.1:7860\n",
      "* Running on public URL: https://d08666300f90074ea3.gradio.live\n",
      "\n",
      "This share link expires in 1 week. For free permanent hosting and GPU upgrades, run `gradio deploy` from the terminal in the working directory to deploy to Hugging Face Spaces (https://huggingface.co/spaces)\n"
     ]
    },
    {
     "data": {
      "text/html": [
       "<div><iframe src=\"https://d08666300f90074ea3.gradio.live\" width=\"100%\" height=\"500\" allow=\"autoplay; camera; microphone; clipboard-read; clipboard-write;\" frameborder=\"0\" allowfullscreen></iframe></div>"
      ],
      "text/plain": [
       "<IPython.core.display.HTML object>"
      ]
     },
     "metadata": {},
     "output_type": "display_data"
    },
    {
     "data": {
      "text/plain": []
     },
     "execution_count": 1,
     "metadata": {},
     "output_type": "execute_result"
    },
    {
     "name": "stdout",
     "output_type": "stream",
     "text": [
      "Created dataset file at: .gradio/flagged/dataset2.csv\n"
     ]
    }
   ],
   "source": [
    "import gradio as gr\n",
    "import transformers\n",
    "from transformers import pipeline\n",
    "from transformers import BertTokenizerFast, BertForQuestionAnswering, TrainingArguments, Trainer\n",
    "from transformers import AutoTokenizer, AutoModelForSeq2SeqLM, Seq2SeqTrainer, Seq2SeqTrainingArguments\n",
    "from transformers import MT5ForConditionalGeneration, MT5Tokenizer\n",
    "import pandas as pd\n",
    "import numpy as np\n",
    "import torch\n",
    "from bs4 import BeautifulSoup\n",
    "from datasets import Dataset\n",
    "import re\n",
    "\n",
    "model_path = \"./mt5-base-9038-8624\"\n",
    "\n",
    "tokenizer = AutoTokenizer.from_pretrained(model_path)\n",
    "model = AutoModelForSeq2SeqLM.from_pretrained(model_path)\n",
    "qa_pipeline = pipeline(\"text2text-generation\", model=model, tokenizer=tokenizer)\n",
    "\n",
    "def clean_html_tags(html_text):\n",
    "    soup = BeautifulSoup(html_text, 'html.parser')\n",
    "    for tag in soup([\"script\", \"style\"]):\n",
    "        tag.decompose()\n",
    "    return soup.get_text(separator=\"\\n\", strip=True)\n",
    "\n",
    "# 构造输入输出\n",
    "def text_to_input(text):\n",
    "    context = clean_html_tags(text)\n",
    "    prompt = (\n",
    "        \"Extract the salary info from the job ad below and return it as: \"\n",
    "        \"\\\"MinimumSalary MaximumSalary Currency PayPeriod\\\"\\n\\n\"\n",
    "    )\n",
    "    input_text = prompt + context\n",
    "    \n",
    "    return {\"input\": input_text}\n",
    "  \n",
    "def generate_prediction(text):\n",
    "    input_text = text_to_input(text)[\"input\"]\n",
    "    output = qa_pipeline(input_text)\n",
    "    predict = output[0][\"generated_text\"].strip()\n",
    "\n",
    "    # 匹配格式：数字 数字 字母 字母\n",
    "    pattern = r\"^(\\d+(?:\\.\\d+)?)\\s+(\\d+(?:\\.\\d+)?)\\s+([A-Za-z]+)\\s+([A-Za-z]+)$\"\n",
    "    match = re.match(pattern, predict)\n",
    "\n",
    "    if match:\n",
    "        min_pred, max_pred, currency_pred, period_pred = match.groups()\n",
    "        # 四舍五入并转为整数\n",
    "        min_pred = str(round(float(min_pred)))\n",
    "        max_pred = str(round(float(max_pred)))\n",
    "        return f\"{min_pred}-{max_pred}-{currency_pred}-{period_pred}\"\n",
    "    else:\n",
    "        return \"0-0-None-None\"\n",
    "\n",
    "\n",
    "demo = gr.Interface(fn=generate_prediction, inputs=\"text\", outputs=\"text\")\n",
    "demo.launch(share=True)\n",
    "# input ='''\n",
    "# TEAM SALE Description NURRIFA RICH SDN BHD merupakan sebuah syarikat komersial dalam industri produk kesihatan sejak 2018 dan telah mencetuskan evolusi dalam bidang jamu moden dengan mengkomersialkan idea makanan kesihatan berbentuk pastil gula-gula halal pertama di Malaysia. Berpengkalan di Kuala Terengganu dan memiliki pasukan Team Sales yang mampu menghasilkan ratusan ribu sebulan di bawah bimbingan syarikat. Untuk info lebih lanjut boleh rujuk kepada FB kami Nurrifa HQ @ www.nurrifa.com. . SKOP KERJA: 1) Membantu bakal pelanggan membuat pembelian produk syarikat melalui Whatsapp/FB/IG dan CALL. 2) Follow Up pelanggan. 3) Update Media Sosial syarikat. . SYARAT KELAYAKAN: • Perempuan& Lelaki • Berumur 18-28 tahun. • Mempunyai skill komunikasi yang bagus. • Penampilan yang menarik. . KELEBIHAN: (RM1500-RM5000 sebulan) • Elaun Asas • Elaun Telco • Komisen Lumayan • Reward Bulanan • BONUS jika capai KPI • Suasana kerja yang selesa • Circle yang positif • Latihan jualan disediakan - Parking Percuma Company MENJUAL PRODUK KESIHATAN\n",
    "# '''\n",
    "\n",
    "# output = generate_prediction(input)\n",
    "\n",
    "# print(output)"
   ]
  }
 ],
 "metadata": {
  "kernelspec": {
   "display_name": "venv",
   "language": "python",
   "name": "python3"
  },
  "language_info": {
   "codemirror_mode": {
    "name": "ipython",
    "version": 3
   },
   "file_extension": ".py",
   "mimetype": "text/x-python",
   "name": "python",
   "nbconvert_exporter": "python",
   "pygments_lexer": "ipython3",
   "version": "3.11.8"
  }
 },
 "nbformat": 4,
 "nbformat_minor": 2
}
