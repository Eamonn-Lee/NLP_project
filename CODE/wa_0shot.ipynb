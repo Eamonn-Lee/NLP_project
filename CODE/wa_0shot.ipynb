{
 "cells": [
  {
   "cell_type": "markdown",
   "metadata": {},
   "source": [
    "Zero shot classifier - https://huggingface.co/facebook/bart-large-mnli"
   ]
  },
  {
   "cell_type": "code",
   "execution_count": 1,
   "metadata": {},
   "outputs": [],
   "source": [
    "import pandas as pd\n",
    "from datasets import Dataset\n",
    "from transformers import pipeline"
   ]
  },
  {
   "cell_type": "code",
   "execution_count": 2,
   "metadata": {},
   "outputs": [
    {
     "name": "stderr",
     "output_type": "stream",
     "text": [
      "Device set to use cuda:0\n"
     ]
    }
   ],
   "source": [
    "classifier = pipeline(\"zero-shot-classification\",\n",
    "                      model=\"facebook/bart-large-mnli\") #built to understand natural language\n",
    "candidate_labels = ['Hybrid', 'OnSite', 'Remote']"
   ]
  },
  {
   "cell_type": "markdown",
   "metadata": {},
   "source": [
    "Eval"
   ]
  },
  {
   "cell_type": "code",
   "execution_count": 3,
   "metadata": {},
   "outputs": [],
   "source": [
    "#get test data\n",
    "\n",
    "fp_test = \"../DATASETS/work_arrangements_test_set.csv\"\n",
    "df_test = pd.read_csv(fp_test)\n",
    "df_test.drop(\"id\", axis=1, inplace=True) #get rid of id column\n",
    "df_test.rename(columns={\"job_ad\": \"text\"}, inplace=True)\n",
    "\n",
    "df_test\n",
    "testdata = Dataset.from_pandas(df_test)\n"
   ]
  },
  {
   "cell_type": "code",
   "execution_count": null,
   "metadata": {},
   "outputs": [
    {
     "name": "stderr",
     "output_type": "stream",
     "text": [
      "You seem to be using the pipelines sequentially on GPU. In order to maximize efficiency please use a dataset\n"
     ]
    },
    {
     "name": "stdout",
     "output_type": "stream",
     "text": [
      "Accuracy = 0.494949494949495\n"
     ]
    }
   ],
   "source": [
    "correct = 0\n",
    "predictions = []\n",
    "\n",
    "\n",
    "for i in range(len(testdata)):\n",
    "    sample = testdata[i]\n",
    "\n",
    "    out = classifier(sample['text'], candidate_labels)\n",
    "    scores = list(zip(out['labels'], out['scores']))\n",
    "\n",
    "    predicted_label = max(scores, key=lambda x: x[1])[0]    #get label of largest confidence score\n",
    "    predictions.append(predicted_label)\n",
    "    if predicted_label == sample['y_true']:\n",
    "        correct+=1\n",
    "\n",
    "print(f\"Accuracy = {correct/len(testdata)}\")\n"
   ]
  },
  {
   "cell_type": "code",
   "execution_count": null,
   "metadata": {},
   "outputs": [
    {
     "name": "stdout",
     "output_type": "stream",
     "text": [
      "{'Remote': 0.8333333333333334, 'Hybrid': 0.34782608695652173, 'OnSite': 0.8333333333333334, 'AVERAGE': 0.6714975845410628}\n",
      "{'Remote': 0.7692307692307693, 'Hybrid': 0.8888888888888888, 'OnSite': 0.10869565217391304, 'AVERAGE': 0.5889384367645237}\n"
     ]
    }
   ],
   "source": [
    "from eval import *\n",
    "\n",
    "p = precision([\"Remote\", \"Hybrid\", \"OnSite\"], testdata['y_true'], predictions)\n",
    "print(p)\n",
    "r = recall([\"Remote\", \"Hybrid\", \"OnSite\"], testdata['y_true'], predictions)\n",
    "print(r)"
   ]
  }
 ],
 "metadata": {
  "kernelspec": {
   "display_name": ".venv",
   "language": "python",
   "name": "python3"
  },
  "language_info": {
   "codemirror_mode": {
    "name": "ipython",
    "version": 3
   },
   "file_extension": ".py",
   "mimetype": "text/x-python",
   "name": "python",
   "nbconvert_exporter": "python",
   "pygments_lexer": "ipython3",
   "version": "3.12.3"
  }
 },
 "nbformat": 4,
 "nbformat_minor": 2
}
