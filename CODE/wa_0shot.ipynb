{
 "cells": [
  {
   "cell_type": "markdown",
   "metadata": {},
   "source": [
    "Zero shot classifier - https://huggingface.co/facebook/bart-large-mnli"
   ]
  },
  {
   "cell_type": "code",
   "execution_count": 1,
   "metadata": {},
   "outputs": [],
   "source": [
    "import pandas as pd\n",
    "from datasets import Dataset\n",
    "from transformers import pipeline"
   ]
  },
  {
   "cell_type": "code",
   "execution_count": 2,
   "metadata": {},
   "outputs": [
    {
     "name": "stderr",
     "output_type": "stream",
     "text": [
      "Device set to use cuda:0\n"
     ]
    }
   ],
   "source": [
    "classifier = pipeline(\"zero-shot-classification\",\n",
    "                      model=\"facebook/bart-large-mnli\") #built to understand natural language\n",
    "candidate_labels = ['Hybrid', 'OnSite', 'Remote']"
   ]
  },
  {
   "cell_type": "markdown",
   "metadata": {},
   "source": [
    "Eval"
   ]
  },
  {
   "cell_type": "code",
   "execution_count": 3,
   "metadata": {},
   "outputs": [],
   "source": [
    "#get test data\n",
    "\n",
    "fp_test = \"../DATASETS/work_arrangements_test_set.csv\"\n",
    "df_test = pd.read_csv(fp_test)\n",
    "df_test.drop(\"id\", axis=1, inplace=True) #get rid of id column\n",
    "df_test.rename(columns={\"job_ad\": \"text\"}, inplace=True)\n",
    "\n",
    "df_test\n",
    "testdata = Dataset.from_pandas(df_test)\n"
   ]
  },
  {
   "cell_type": "code",
   "execution_count": 4,
   "metadata": {},
   "outputs": [
    {
     "name": "stdout",
     "output_type": "stream",
     "text": [
      "CORRECT: prediction == label\n",
      "INCORRECT: Hybrid == OnSite\n",
      "INCORRECT: Hybrid == OnSite\n",
      "INCORRECT: Hybrid == Remote\n",
      "CORRECT: Hybrid == Hybrid\n",
      "INCORRECT: Hybrid == Remote\n",
      "INCORRECT: Hybrid == OnSite\n",
      "INCORRECT: Remote == Hybrid\n",
      "INCORRECT: Hybrid == Remote\n",
      "CORRECT: Hybrid == Hybrid\n"
     ]
    },
    {
     "name": "stderr",
     "output_type": "stream",
     "text": [
      "You seem to be using the pipelines sequentially on GPU. In order to maximize efficiency please use a dataset\n"
     ]
    },
    {
     "name": "stdout",
     "output_type": "stream",
     "text": [
      "CORRECT: Remote == Remote\n",
      "CORRECT: Hybrid == Hybrid\n",
      "INCORRECT: Hybrid == OnSite\n",
      "CORRECT: Remote == Remote\n",
      "INCORRECT: Hybrid == OnSite\n",
      "INCORRECT: Hybrid == OnSite\n",
      "INCORRECT: Hybrid == OnSite\n",
      "INCORRECT: Hybrid == OnSite\n",
      "CORRECT: Remote == Remote\n",
      "INCORRECT: Hybrid == OnSite\n",
      "CORRECT: Remote == Remote\n",
      "CORRECT: Remote == Remote\n",
      "CORRECT: Hybrid == Hybrid\n",
      "CORRECT: Remote == Remote\n",
      "CORRECT: Hybrid == Hybrid\n",
      "INCORRECT: Hybrid == OnSite\n",
      "INCORRECT: Hybrid == OnSite\n",
      "CORRECT: Hybrid == Hybrid\n",
      "INCORRECT: Hybrid == OnSite\n",
      "CORRECT: Remote == Remote\n",
      "INCORRECT: Hybrid == OnSite\n",
      "INCORRECT: Hybrid == OnSite\n",
      "CORRECT: Hybrid == Hybrid\n",
      "CORRECT: Hybrid == Hybrid\n",
      "CORRECT: Remote == Remote\n",
      "INCORRECT: Hybrid == OnSite\n",
      "INCORRECT: Hybrid == OnSite\n",
      "INCORRECT: Hybrid == OnSite\n",
      "CORRECT: Hybrid == Hybrid\n",
      "CORRECT: Hybrid == Hybrid\n",
      "INCORRECT: Hybrid == OnSite\n",
      "CORRECT: Hybrid == Hybrid\n",
      "CORRECT: Remote == Remote\n",
      "CORRECT: Remote == Remote\n",
      "CORRECT: Remote == Remote\n",
      "CORRECT: Hybrid == Hybrid\n",
      "INCORRECT: Remote == OnSite\n",
      "INCORRECT: Hybrid == OnSite\n",
      "CORRECT: Remote == Remote\n",
      "CORRECT: Remote == Remote\n",
      "INCORRECT: Hybrid == OnSite\n",
      "CORRECT: Hybrid == Hybrid\n",
      "CORRECT: Hybrid == Hybrid\n",
      "INCORRECT: Remote == OnSite\n",
      "CORRECT: OnSite == OnSite\n",
      "CORRECT: OnSite == OnSite\n",
      "CORRECT: Remote == Remote\n",
      "INCORRECT: Hybrid == OnSite\n",
      "CORRECT: Hybrid == Hybrid\n",
      "CORRECT: Hybrid == Hybrid\n",
      "CORRECT: Remote == Remote\n",
      "CORRECT: OnSite == OnSite\n",
      "INCORRECT: OnSite == Hybrid\n",
      "INCORRECT: Hybrid == OnSite\n",
      "CORRECT: Hybrid == Hybrid\n",
      "CORRECT: Remote == Remote\n",
      "CORRECT: Remote == Remote\n",
      "CORRECT: Remote == Remote\n",
      "CORRECT: Hybrid == Hybrid\n",
      "INCORRECT: Hybrid == OnSite\n",
      "INCORRECT: Hybrid == OnSite\n",
      "CORRECT: Hybrid == Hybrid\n",
      "INCORRECT: Hybrid == OnSite\n",
      "INCORRECT: Hybrid == OnSite\n",
      "CORRECT: Hybrid == Hybrid\n",
      "CORRECT: OnSite == OnSite\n",
      "INCORRECT: Hybrid == Remote\n",
      "CORRECT: OnSite == OnSite\n",
      "CORRECT: Remote == Remote\n",
      "INCORRECT: Hybrid == OnSite\n",
      "INCORRECT: Hybrid == OnSite\n",
      "CORRECT: Hybrid == Hybrid\n",
      "INCORRECT: Hybrid == OnSite\n",
      "CORRECT: Hybrid == Hybrid\n",
      "INCORRECT: Hybrid == OnSite\n",
      "CORRECT: Remote == Remote\n",
      "INCORRECT: Remote == Hybrid\n",
      "INCORRECT: Hybrid == OnSite\n",
      "INCORRECT: Hybrid == OnSite\n",
      "INCORRECT: Hybrid == OnSite\n",
      "CORRECT: Hybrid == Hybrid\n",
      "INCORRECT: Hybrid == Remote\n",
      "INCORRECT: Hybrid == OnSite\n",
      "INCORRECT: Hybrid == OnSite\n",
      "INCORRECT: Hybrid == Remote\n",
      "INCORRECT: Hybrid == OnSite\n",
      "CORRECT: Hybrid == Hybrid\n",
      "INCORRECT: Hybrid == OnSite\n",
      "INCORRECT: Hybrid == OnSite\n",
      "INCORRECT: Hybrid == OnSite\n",
      "Accuracy = 0.494949494949495\n"
     ]
    }
   ],
   "source": [
    "print(f\"CORRECT: prediction == label\")\n",
    "correct = 0\n",
    "\n",
    "for i in range(len(testdata)):\n",
    "    sample = testdata[i]\n",
    "\n",
    "    out = classifier(sample['text'], candidate_labels)\n",
    "    scores = list(zip(out['labels'], out['scores']))\n",
    "    #print(scores)\n",
    "\n",
    "    predicted_label = max(scores, key=lambda x: x[1])[0]    #get label of largest confidence score\n",
    "\n",
    "    if predicted_label == sample['y_true']:\n",
    "        correct+=1\n",
    "        print(f\"CORRECT: {predicted_label} == {sample['y_true']}\")\n",
    "    else:\n",
    "        print(f\"INCORRECT: {predicted_label} == {sample['y_true']}\")\n",
    "\n",
    "print(f\"Accuracy = {correct/len(testdata)}\")\n"
   ]
  }
 ],
 "metadata": {
  "kernelspec": {
   "display_name": ".venv",
   "language": "python",
   "name": "python3"
  },
  "language_info": {
   "codemirror_mode": {
    "name": "ipython",
    "version": 3
   },
   "file_extension": ".py",
   "mimetype": "text/x-python",
   "name": "python",
   "nbconvert_exporter": "python",
   "pygments_lexer": "ipython3",
   "version": "3.12.3"
  }
 },
 "nbformat": 4,
 "nbformat_minor": 2
}
