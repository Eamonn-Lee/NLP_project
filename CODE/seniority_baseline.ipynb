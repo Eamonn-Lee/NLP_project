{
 "cells": [
  {
   "cell_type": "code",
   "execution_count": 1,
   "metadata": {},
   "outputs": [],
   "source": [
    "import pandas as pd\n",
    "import nltk\n",
    "import numpy as np\n",
    "import re\n",
    "# only for english\n",
    "# from nltk.tokenize import word_tokenize \n",
    "from collections import Counter\n",
    "\n",
    "fp = \"../DATASETS/seniority_labelled_development_set.csv\"\n",
    "tfp = \"../DATASETS/seniority_labelled_test_set.csv\"\n",
    "df = pd.read_csv(fp)\n",
    "tdf = pd.read_csv(tfp)"
   ]
  },
  {
   "cell_type": "code",
   "execution_count": 2,
   "metadata": {},
   "outputs": [],
   "source": [
    "# print(df['y_true'].unique())\n",
    "# 打印所有 y_true 的唯一值和对应的数量\n",
    "# total = 0\n",
    "# for label, count in df['y_true'].value_counts().items():\n",
    "#     print(f\"{label}: {count}\")\n",
    "    # total+=count\n",
    "# print(total)\n"
   ]
  },
  {
   "cell_type": "code",
   "execution_count": 3,
   "metadata": {},
   "outputs": [],
   "source": [
    "import re\n",
    "\n",
    "def classify_job_level(text):\n",
    "    text = text.lower() \n",
    "    if re.search(r'\\b(senior|snr|sen\\.|high-level|seasoned)\\b', text):\n",
    "        return 'senior'\n",
    "    elif re.search(r'\\b(entry level|entry-level|no experience)\\b', text):\n",
    "        return 'entry level'\n",
    "    elif re.search(r'\\b(assistant)\\b', text):\n",
    "        return 'assistant'\n",
    "    else:\n",
    "        return 'experienced'\n"
   ]
  },
  {
   "cell_type": "code",
   "execution_count": 4,
   "metadata": {},
   "outputs": [],
   "source": [
    "df['predicted_seniority'] = df.apply(\n",
    "    lambda row: classify_job_level(row['job_ad_details']),\n",
    "    axis=1\n",
    ")"
   ]
  },
  {
   "cell_type": "code",
   "execution_count": 5,
   "metadata": {},
   "outputs": [
    {
     "name": "stdout",
     "output_type": "stream",
     "text": [
      "development_dataset\n",
      "\n",
      "Accuracy: 38.84%\n"
     ]
    }
   ],
   "source": [
    "print('development_dataset')\n",
    "#Accuracy\n",
    "accuracy = np.mean(df['predicted_seniority'] == df['y_true'])\n",
    "print(f\"\\nAccuracy: {accuracy:.2%}\")\n",
    "\n",
    "# # print(\"\\nPrediction vs Ground Truth:\\n\")\n",
    "# for i, row in df.iterrows():\n",
    "#     predicted = row['predicted_seniority']\n",
    "#     expected = row['y_true']\n",
    "#     if predicted != expected:\n",
    "#       print(f\"[{i}] ❌ Predicted: {predicted} | Expected: {expected}\")\n",
    "#     else:\n",
    "#         print(f\"[{i}] ✅ Matched:   {predicted}\")"
   ]
  },
  {
   "cell_type": "code",
   "execution_count": 6,
   "metadata": {},
   "outputs": [
    {
     "name": "stdout",
     "output_type": "stream",
     "text": [
      "test_dataset\n",
      "\n",
      "Accuracy: 37.01%\n"
     ]
    }
   ],
   "source": [
    "print('test_dataset')\n",
    "tdf['predicted_seniority'] = tdf.apply(\n",
    "    lambda row: classify_job_level(row['job_ad_details']),\n",
    "    axis=1\n",
    ")\n",
    "\n",
    "#Accuracy\n",
    "accuracy = np.mean(tdf['predicted_seniority'] == tdf['y_true'])\n",
    "print(f\"\\nAccuracy: {accuracy:.2%}\")"
   ]
  }
 ],
 "metadata": {
  "kernelspec": {
   "display_name": "venv",
   "language": "python",
   "name": "python3"
  },
  "language_info": {
   "codemirror_mode": {
    "name": "ipython",
    "version": 3
   },
   "file_extension": ".py",
   "mimetype": "text/x-python",
   "name": "python",
   "nbconvert_exporter": "python",
   "pygments_lexer": "ipython3",
   "version": "3.11.8"
  }
 },
 "nbformat": 4,
 "nbformat_minor": 2
}
