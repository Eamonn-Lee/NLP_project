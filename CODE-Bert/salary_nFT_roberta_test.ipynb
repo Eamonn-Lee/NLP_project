{
 "cells": [
  {
   "cell_type": "code",
   "execution_count": 10,
   "metadata": {},
   "outputs": [
    {
     "name": "stderr",
     "output_type": "stream",
     "text": [
      "Device set to use mps:0\n"
     ]
    }
   ],
   "source": [
    "\n",
    "from transformers import pipeline\n",
    "from transformers import BertTokenizerFast, BertForQuestionAnswering, TrainingArguments, Trainer\n",
    "from transformers import AutoModelForQuestionAnswering, AutoTokenizer, pipeline\n",
    "import pandas as pd\n",
    "import numpy as np\n",
    "from bs4 import BeautifulSoup\n",
    "import sys\n",
    "sys.path.append(\"../CODE-Baseline\")  \n",
    "import warnings\n",
    "warnings.filterwarnings('ignore')\n",
    "\n",
    "\n",
    "from salary_baseline import extract_salary_with_inference\n",
    "\n",
    "\n",
    "file_path = '../DATASETS/salary_labelled_development_set.csv'\n",
    "test_file_path = '../DATASETS/salary_labelled_test_set.csv'\n",
    "df = pd.read_csv(file_path)\n",
    "\n",
    "model_name = \"deepset/roberta-base-squad2\"\n",
    "\n",
    "model = AutoModelForQuestionAnswering.from_pretrained(model_name)\n",
    "tokenizer = AutoTokenizer.from_pretrained(model_name)\n",
    "qa_pipeline = pipeline(\n",
    "    \"question-answering\",\n",
    "    model=model,\n",
    "    tokenizer=tokenizer\n",
    ")"
   ]
  },
  {
   "cell_type": "code",
   "execution_count": 11,
   "metadata": {},
   "outputs": [],
   "source": [
    "# html -> context \n",
    "def clean_html_tags(html_text):\n",
    "    soup = BeautifulSoup(html_text, 'html.parser')\n",
    "    for tag in soup([\"script\", \"style\"]):\n",
    "        tag.decompose()\n",
    "    text = soup.get_text(separator=\" \", strip=True)\n",
    "    return text"
   ]
  },
  {
   "cell_type": "code",
   "execution_count": 12,
   "metadata": {},
   "outputs": [
    {
     "name": "stdout",
     "output_type": "stream",
     "text": [
      "\n",
      "顧客服務代表- 熱線中心 (Customer Service Representative- Call Centre) 我們的客戶正在尋找顧客服務代表（Call Centre） 職責: 客戶服務熱線運作，包括解答查詢和處理投訴 建立有關客戶互動和投訴的報告 提出改善客戶體驗的建議 跟進及確保部門運作順利 提供行政支援和協助 Requirements: 中五或以上任何學科 1 年客戶服務接線經驗，包括投訴處理（電器行業相關優先） 良好的人際溝通與溝通技巧 能夠承受工作壓力 經驗較少者亦會考慮 可立即上班優先 具經驗者會考慮為顧客服務高級主任 Interested candidates please send your MS Word version resume with expected salary and notice period to ivan.cheng@manpowergrc.hk.\n",
      "\n",
      "{'score': 0.039667945355176926, 'start': 341, 'end': 374, 'answer': 'expected salary and notice period'}\n",
      "{'score': 9.658724593464285e-06, 'start': 404, 'end': 405, 'answer': '\\n'}\n",
      "\n",
      "Protege - Quantity Surveyor (KL) Description Quantity surveyors have under their helm complete management of the cost involved in building and construction projects from the inception of the project until the delivery. They strive for an efficient use of the resources whilst keeping an eye on quality, quality standards, and client's requirements. Contract Basic : 12 months Monthly Salary : RM2000.00 Annual Leave & Medical Leave Provided SOCSO & EIS Contribution *Candidate must be a Bachelor Degree holder* Company PANCARAN DINAR SDN BHD telah ditubuhkan pada tahun 1982. PANCARAN DINAR SDN BHD adalah sebuah Syarikat Bumiputera yang bergiat aktif dalam industry pembinaan di Pantai Timur Semenanjung. Sehingga kini projek-projek yang dikendalikan oleh PANCARAN DINAR SDN BHD merupakan kontrak daripada pihak kerajaan, badan berkanun dan pihak swasta. Jumlah kerja terkumpul yang telah dikendalikan oleh PANCARAN DINAR SDN BHD adalah melebihi RM400 juta merangkumi projek-projek pembinaan bangunan dan infrastruktur. PANCARAN DINAR SDN BHD merupakan sebuah syarikat yang berdaftar dengan Lembaga Pembangunan Industri Pembinaan Malaysia (CIDB) – Kelas G7 dan berdaftar dengan Bahagian Pembangunan Kontraktor Dan Usahawan (BPKU) – Taraf Bumiputera PANCARAN DINAR SDN BHD juga mendapat pengiktirafan ISO 9001:2015 oleh SIRIM QAS International Sdn. Bhd. bagi aktiviti penyediaan perkhidmatan pembinaan untuk bangunan, sivil dan kerja-kerja infrastruktur.\n",
      "\n",
      "{'score': 0.5629735589027405, 'start': 394, 'end': 403, 'answer': 'RM2000.00'}\n",
      "{'score': 0.5814499855041504, 'start': 377, 'end': 384, 'answer': 'Monthly'}\n",
      "\n",
      "TEAM SALE Description NURRIFA RICH SDN BHD merupakan sebuah syarikat komersial dalam industri produk kesihatan sejak 2018 dan telah mencetuskan evolusi dalam bidang jamu moden dengan mengkomersialkan idea makanan kesihatan berbentuk pastil gula-gula halal pertama di Malaysia. Berpengkalan di Kuala Terengganu dan memiliki pasukan Team Sales yang mampu menghasilkan ratusan ribu sebulan di bawah bimbingan syarikat. Untuk info lebih lanjut boleh rujuk kepada FB kami Nurrifa HQ @ www.nurrifa.com. . SKOP KERJA: 1) Membantu bakal pelanggan membuat pembelian produk syarikat melalui Whatsapp/FB/IG dan CALL. 2) Follow Up pelanggan. 3) Update Media Sosial syarikat. . SYARAT KELAYAKAN: • Perempuan& Lelaki • Berumur 18-28 tahun. • Mempunyai skill komunikasi yang bagus. • Penampilan yang menarik. . KELEBIHAN: (RM1500-RM5000 sebulan) • Elaun Asas • Elaun Telco • Komisen Lumayan • Reward Bulanan • BONUS jika capai KPI • Suasana kerja yang selesa • Circle yang positif • Latihan jualan disediakan - Parking Percuma Company MENJUAL PRODUK KESIHATAN\n",
      "\n",
      "{'score': 0.017170436680316925, 'start': 809, 'end': 830, 'answer': 'RM1500-RM5000 sebulan'}\n",
      "{'score': 1.3411425243248232e-05, 'start': 1045, 'end': 1046, 'answer': '\\n'}\n"
     ]
    }
   ],
   "source": [
    "salary_question = \"what is the information about salary?\"\n",
    "pay_freq_question = \"Is the salary paid monthly, hourly, yearly, weekly, or daily?\"\n",
    "\n",
    "\n",
    "    \n",
    "fixed_context = '''\n",
    "Protege - Quantity Surveyor (KL) Description Quantity surveyors have under their helm complete management of the cost involved in building and construction projects from the inception of the project until the delivery. They strive for an efficient use of the resources whilst keeping an eye on quality, quality standards, and client's requirements. Contract Basic : 12 months Monthly Salary : RM2000.00 Annual Leave & Medical Leave Provided SOCSO & EIS Contribution *Candidate must be a Bachelor Degree holder* Company PANCARAN DINAR SDN BHD telah ditubuhkan pada tahun 1982. PANCARAN DINAR SDN BHD adalah sebuah Syarikat Bumiputera yang bergiat aktif dalam industry pembinaan di Pantai Timur Semenanjung. Sehingga kini projek-projek yang dikendalikan oleh PANCARAN DINAR SDN BHD merupakan kontrak daripada pihak kerajaan, badan berkanun dan pihak swasta. Jumlah kerja terkumpul yang telah dikendalikan oleh PANCARAN DINAR SDN BHD adalah melebihi RM400 juta merangkumi projek-projek pembinaan bangunan dan infrastruktur. PANCARAN DINAR SDN BHD merupakan sebuah syarikat yang berdaftar dengan Lembaga Pembangunan Industri Pembinaan Malaysia (CIDB) – Kelas G7 dan berdaftar dengan Bahagian Pembangunan Kontraktor Dan Usahawan (BPKU) – Taraf Bumiputera PANCARAN DINAR SDN BHD juga mendapat pengiktirafan ISO 9001:2015 oleh SIRIM QAS International Sdn. Bhd. bagi aktiviti penyediaan perkhidmatan pembinaan untuk bangunan, sivil dan kerja-kerja infrastruktur.\n",
    "'''\n",
    "\n",
    "none_context='''\n",
    "顧客服務代表- 熱線中心 (Customer Service Representative- Call Centre) 我們的客戶正在尋找顧客服務代表（Call Centre） 職責: 客戶服務熱線運作，包括解答查詢和處理投訴 建立有關客戶互動和投訴的報告 提出改善客戶體驗的建議 跟進及確保部門運作順利 提供行政支援和協助 Requirements: 中五或以上任何學科 1 年客戶服務接線經驗，包括投訴處理（電器行業相關優先） 良好的人際溝通與溝通技巧 能夠承受工作壓力 經驗較少者亦會考慮 可立即上班優先 具經驗者會考慮為顧客服務高級主任 Interested candidates please send your MS Word version resume with expected salary and notice period to ivan.cheng@manpowergrc.hk.\n",
    "'''\n",
    "\n",
    "range_context='''\n",
    "TEAM SALE Description NURRIFA RICH SDN BHD merupakan sebuah syarikat komersial dalam industri produk kesihatan sejak 2018 dan telah mencetuskan evolusi dalam bidang jamu moden dengan mengkomersialkan idea makanan kesihatan berbentuk pastil gula-gula halal pertama di Malaysia. Berpengkalan di Kuala Terengganu dan memiliki pasukan Team Sales yang mampu menghasilkan ratusan ribu sebulan di bawah bimbingan syarikat. Untuk info lebih lanjut boleh rujuk kepada FB kami Nurrifa HQ @ www.nurrifa.com. . SKOP KERJA: 1) Membantu bakal pelanggan membuat pembelian produk syarikat melalui Whatsapp/FB/IG dan CALL. 2) Follow Up pelanggan. 3) Update Media Sosial syarikat. . SYARAT KELAYAKAN: • Perempuan& Lelaki • Berumur 18-28 tahun. • Mempunyai skill komunikasi yang bagus. • Penampilan yang menarik. . KELEBIHAN: (RM1500-RM5000 sebulan) • Elaun Asas • Elaun Telco • Komisen Lumayan • Reward Bulanan • BONUS jika capai KPI • Suasana kerja yang selesa • Circle yang positif • Latihan jualan disediakan - Parking Percuma Company MENJUAL PRODUK KESIHATAN\n",
    "'''\n",
    "contexts=[none_context,fixed_context,range_context]\n",
    "for context in contexts:\n",
    "  print(context)\n",
    "  salary_result = qa_pipeline({\"context\": context, \"question\": salary_question})\n",
    "  print(salary_result)\n",
    "  pay_freq_result = qa_pipeline({\"context\": context, \"question\": pay_freq_question})\n",
    "  print(pay_freq_result)\n",
    "\n"
   ]
  }
 ],
 "metadata": {
  "kernelspec": {
   "display_name": "venv",
   "language": "python",
   "name": "python3"
  },
  "language_info": {
   "codemirror_mode": {
    "name": "ipython",
    "version": 3
   },
   "file_extension": ".py",
   "mimetype": "text/x-python",
   "name": "python",
   "nbconvert_exporter": "python",
   "pygments_lexer": "ipython3",
   "version": "3.11.8"
  }
 },
 "nbformat": 4,
 "nbformat_minor": 2
}
