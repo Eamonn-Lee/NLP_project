{
 "cells": [
  {
   "cell_type": "code",
   "execution_count": null,
   "metadata": {},
   "outputs": [],
   "source": [
    "\n",
    "from transformers import pipeline\n",
    "from transformers import BertTokenizerFast, BertForQuestionAnswering, TrainingArguments, Trainer\n",
    "from transformers import AutoModelForQuestionAnswering, AutoTokenizer, pipeline\n",
    "import pandas as pd\n",
    "import numpy as np\n",
    "from bs4 import BeautifulSoup\n",
    "import sys\n",
    "sys.path.append(\"../CODE-Baseline\")  \n",
    "import warnings\n",
    "warnings.filterwarnings('ignore')\n",
    "\n",
    "\n",
    "from salary_baseline import extract_salary_with_inference\n",
    "\n",
    "\n",
    "file_path = '../DATASETS/salary_labelled_development_set.csv'\n",
    "test_file_path = '../DATASETS/salary_labelled_test_set.csv'\n",
    "df = pd.read_csv(file_path)\n",
    "\n",
    "model_name = \"deepset/roberta-base-squad2\"\n",
    "\n",
    "model = AutoModelForQuestionAnswering.from_pretrained(model_name)\n",
    "tokenizer = AutoTokenizer.from_pretrained(model_name)\n",
    "qa_pipeline = pipeline(\n",
    "    \"question-answering\",\n",
    "    model=model,\n",
    "    tokenizer=tokenizer\n",
    ")"
   ]
  },
  {
   "cell_type": "code",
   "execution_count": null,
   "metadata": {},
   "outputs": [],
   "source": [
    "# html -> context \n",
    "def clean_html_tags(html_text):\n",
    "    soup = BeautifulSoup(html_text, 'html.parser')\n",
    "    for tag in soup([\"script\", \"style\"]):\n",
    "        tag.decompose()\n",
    "    text = soup.get_text(separator=\" \", strip=True)\n",
    "    return text"
   ]
  },
  {
   "cell_type": "code",
   "execution_count": 8,
   "metadata": {},
   "outputs": [],
   "source": [
    "salary_question = \"what is the salary?\"\n",
    "pay_freq_question = \"Is the salary paid monthly, hourly, yearly, weekly, or daily?\"\n",
    "\n",
    "def get_salary_using_nFT_Bert(text,nation_code):\n",
    "  context=clean_html_tags(text)\n",
    "  salary_result = qa_pipeline({\"context\": context, \"question\": salary_question})\n",
    "  \n",
    "  t_result=extract_salary_with_inference(salary_result[\"answer\"],nation_code)\n",
    "  # print(t_result)\n",
    "  if t_result!='0-0-None-None':\n",
    "    pay_freq_result = qa_pipeline({\"context\": context, \"question\": pay_freq_question})\n",
    "    # print(pay_freq_result[\"answer\"])\n",
    "    \n",
    "  return t_result\n",
    "\n",
    "    \n",
    "    \n",
    "    \n",
    "df['predicted_salary'] = df.apply(\n",
    "    lambda row: get_salary_using_nFT_Bert(\n",
    "        f\"{row['job_title']} {row['job_ad_details']}\",\n",
    "        row['nation_short_desc']\n",
    "    ),\n",
    "    axis=1\n",
    ")\n",
    "    \n"
   ]
  },
  {
   "cell_type": "code",
   "execution_count": 9,
   "metadata": {},
   "outputs": [
    {
     "name": "stdout",
     "output_type": "stream",
     "text": [
      "Development dataset:\n",
      "Precision: 0.7220\n",
      "Recall: 0.7746\n",
      "F1 Score: 0.7474\n",
      "Accuracy: 0.7653\n",
      "\n"
     ]
    }
   ],
   "source": [
    "# TP, FP, TN, FN\n",
    "TP = np.sum((df['predicted_salary'] == df['y_true']) & (df['y_true'] != \"0-0-None-None\"))\n",
    "FP = np.sum((df['predicted_salary'] != df['y_true']) & (df['predicted_salary'] != \"0-0-None-None\"))\n",
    "FN = np.sum((df['predicted_salary'] == \"0-0-None-None\") & (df['y_true'] != \"0-0-None-None\"))\n",
    "TN = np.sum((df['predicted_salary'] == \"0-0-None-None\") & (df['y_true'] == \"0-0-None-None\"))\n",
    "\n",
    "precision = TP / (TP + FP) if (TP + FP) != 0 else 0\n",
    "recall = TP / (TP + FN) if (TP + FN) != 0 else 0\n",
    "f1 = 2 * (precision * recall) / (precision + recall) if (precision + recall) != 0 else 0\n",
    "accuracy = (TP + TN) / (FP + FN + TP + TN)\n",
    "\n",
    "# Print prediction vs ground truth\n",
    "# print(\"\\n🔍 Prediction vs Ground Truth:\\n\")\n",
    "# for i, row in df.iterrows():\n",
    "#     predicted = row['predicted_salary']\n",
    "#     expected = row['y_true']\n",
    "#     if predicted != expected:\n",
    "#         print(f\"[{i}] ❌ Predicted: {predicted} | Expected: {expected}\")\n",
    "#         print(f\"{row['job_id']} {row['job_title']} {row['job_ad_details']}\")\n",
    "#         print()\n",
    "    # else:\n",
    "    #     print(f\"[{i}] ✅ Matched:   {predicted}\")\n",
    "\n",
    "print(\"Development dataset:\")\n",
    "print(f\"Precision: {precision:.4f}\")\n",
    "print(f\"Recall: {recall:.4f}\")\n",
    "print(f\"F1 Score: {f1:.4f}\")\n",
    "print(f\"Accuracy: {accuracy:.4f}\")\n",
    "print()"
   ]
  },
  {
   "cell_type": "code",
   "execution_count": 10,
   "metadata": {},
   "outputs": [
    {
     "name": "stdout",
     "output_type": "stream",
     "text": [
      "Test dataset:\n",
      "Precision: 0.6903\n",
      "Recall: 0.7520\n",
      "F1 Score: 0.7198\n",
      "Accuracy: 0.7460\n"
     ]
    }
   ],
   "source": [
    "# test set\n",
    "df = pd.read_csv(test_file_path)\n",
    "df['predicted_salary'] = df.apply(\n",
    "    lambda row: get_salary_using_nFT_Bert(\n",
    "        f\"{row['job_title']} {row['job_ad_details']}\",\n",
    "        row['nation_short_desc']\n",
    "    ),\n",
    "    axis=1\n",
    ")\n",
    "\n",
    "TP = np.sum((df['predicted_salary'] == df['y_true']) & (df['y_true'] != \"0-0-None-None\"))\n",
    "FP = np.sum((df['predicted_salary'] != df['y_true']) & (df['predicted_salary'] != \"0-0-None-None\"))\n",
    "FN = np.sum((df['predicted_salary'] == \"0-0-None-None\") & (df['y_true'] != \"0-0-None-None\"))\n",
    "TN = np.sum((df['predicted_salary'] == \"0-0-None-None\") & (df['y_true'] == \"0-0-None-None\"))\n",
    "\n",
    "\n",
    "precision = TP / (TP + FP) if (TP + FP) != 0 else 0\n",
    "recall = TP / (TP + FN) if (TP + FN) != 0 else 0\n",
    "f1 = 2 * (precision * recall) / (precision + recall) if (precision + recall) != 0 else 0\n",
    "accuracy = (TP + TN) / (FP + FN + TP + TN)\n",
    "\n",
    "print(\"Test dataset:\")\n",
    "print(f\"Precision: {precision:.4f}\")\n",
    "print(f\"Recall: {recall:.4f}\")\n",
    "print(f\"F1 Score: {f1:.4f}\")\n",
    "print(f\"Accuracy: {accuracy:.4f}\")"
   ]
  }
 ],
 "metadata": {
  "kernelspec": {
   "display_name": "venv",
   "language": "python",
   "name": "python3"
  },
  "language_info": {
   "codemirror_mode": {
    "name": "ipython",
    "version": 3
   },
   "file_extension": ".py",
   "mimetype": "text/x-python",
   "name": "python",
   "nbconvert_exporter": "python",
   "pygments_lexer": "ipython3",
   "version": "3.11.8"
  }
 },
 "nbformat": 4,
 "nbformat_minor": 2
}
