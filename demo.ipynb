{
 "cells": [
  {
   "cell_type": "code",
   "execution_count": 5,
   "metadata": {},
   "outputs": [
    {
     "name": "stderr",
     "output_type": "stream",
     "text": [
      "Device set to use mps:0\n"
     ]
    },
    {
     "name": "stdout",
     "output_type": "stream",
     "text": [
      "* Running on local URL:  http://127.0.0.1:7861\n"
     ]
    },
    {
     "name": "stderr",
     "output_type": "stream",
     "text": [
      "huggingface/tokenizers: The current process just got forked, after parallelism has already been used. Disabling parallelism to avoid deadlocks...\n",
      "To disable this warning, you can either:\n",
      "\t- Avoid using `tokenizers` before the fork if possible\n",
      "\t- Explicitly set the environment variable TOKENIZERS_PARALLELISM=(true | false)\n"
     ]
    },
    {
     "name": "stdout",
     "output_type": "stream",
     "text": [
      "* Running on public URL: https://3bc189dd0c3a0ac6a4.gradio.live\n",
      "\n",
      "This share link expires in 1 week. For free permanent hosting and GPU upgrades, run `gradio deploy` from the terminal in the working directory to deploy to Hugging Face Spaces (https://huggingface.co/spaces)\n"
     ]
    },
    {
     "data": {
      "text/html": [
       "<div><iframe src=\"https://3bc189dd0c3a0ac6a4.gradio.live\" width=\"100%\" height=\"500\" allow=\"autoplay; camera; microphone; clipboard-read; clipboard-write;\" frameborder=\"0\" allowfullscreen></iframe></div>"
      ],
      "text/plain": [
       "<IPython.core.display.HTML object>"
      ]
     },
     "metadata": {},
     "output_type": "display_data"
    },
    {
     "data": {
      "text/plain": []
     },
     "execution_count": 5,
     "metadata": {},
     "output_type": "execute_result"
    },
    {
     "name": "stderr",
     "output_type": "stream",
     "text": [
      "2025-04-23 19:42:01.220 python[27272:13412586] Error creating directory \n",
      " The volume ‚ÄúMacintosh HD‚Äù is out of space. You can‚Äôt save the file ‚Äúmpsgraph-27272-2025-04-23_7_42_01‚ÄØPM-615167764‚Äù because the volume ‚ÄúMacintosh HD‚Äù is out of space.\n",
      "2025-04-23 19:42:01.231 python[27272:13412586] Error creating directory \n",
      " The volume ‚ÄúMacintosh HD‚Äù is out of space. You can‚Äôt save the file ‚Äúmpsgraph-27272-2025-04-23_7_42_01‚ÄØPM-3973680117‚Äù because the volume ‚ÄúMacintosh HD‚Äù is out of space.\n",
      "2025-04-23 19:42:01.244 python[27272:13412586] Error creating directory \n",
      " The volume ‚ÄúMacintosh HD‚Äù is out of space. You can‚Äôt save the file ‚Äúmpsgraph-27272-2025-04-23_7_42_01‚ÄØPM-2589837099‚Äù because the volume ‚ÄúMacintosh HD‚Äù is out of space.\n",
      "2025-04-23 19:42:01.249 python[27272:13412586] Error creating directory \n",
      " The volume ‚ÄúMacintosh HD‚Äù is out of space. You can‚Äôt save the file ‚Äúmpsgraph-27272-2025-04-23_7_42_01‚ÄØPM-1300525564‚Äù because the volume ‚ÄúMacintosh HD‚Äù is out of space.\n",
      "2025-04-23 19:42:01.255 python[27272:13412586] Error creating directory \n",
      " The volume ‚ÄúMacintosh HD‚Äù is out of space. You can‚Äôt save the file ‚Äúmpsgraph-27272-2025-04-23_7_42_01‚ÄØPM-1401873019‚Äù because the volume ‚ÄúMacintosh HD‚Äù is out of space.\n",
      "2025-04-23 19:42:01.260 python[27272:13412586] Error creating directory \n",
      " The volume ‚ÄúMacintosh HD‚Äù is out of space. You can‚Äôt save the file ‚Äúmpsgraph-27272-2025-04-23_7_42_01‚ÄØPM-1449270282‚Äù because the volume ‚ÄúMacintosh HD‚Äù is out of space.\n",
      "2025-04-23 19:42:01.264 python[27272:13412586] Error creating directory \n",
      " The volume ‚ÄúMacintosh HD‚Äù is out of space. You can‚Äôt save the file ‚Äúmpsgraph-27272-2025-04-23_7_42_01‚ÄØPM-3875564379‚Äù because the volume ‚ÄúMacintosh HD‚Äù is out of space.\n",
      "2025-04-23 19:42:01.269 python[27272:13412586] Error creating directory \n",
      " The volume ‚ÄúMacintosh HD‚Äù is out of space. You can‚Äôt save the file ‚Äúmpsgraph-27272-2025-04-23_7_42_01‚ÄØPM-2650314052‚Äù because the volume ‚ÄúMacintosh HD‚Äù is out of space.\n",
      "2025-04-23 19:42:01.447 python[27272:13412586] Error creating directory \n",
      " The volume ‚ÄúMacintosh HD‚Äù is out of space. You can‚Äôt save the file ‚Äúmpsgraph-27272-2025-04-23_7_42_01‚ÄØPM-3240924306‚Äù because the volume ‚ÄúMacintosh HD‚Äù is out of space.\n",
      "2025-04-23 19:42:01.452 python[27272:13412586] Error creating directory \n",
      " The volume ‚ÄúMacintosh HD‚Äù is out of space. You can‚Äôt save the file ‚Äúmpsgraph-27272-2025-04-23_7_42_01‚ÄØPM-3049169001‚Äù because the volume ‚ÄúMacintosh HD‚Äù is out of space.\n",
      "2025-04-23 19:42:01.457 python[27272:13412586] Error creating directory \n",
      " The volume ‚ÄúMacintosh HD‚Äù is out of space. You can‚Äôt save the file ‚Äúmpsgraph-27272-2025-04-23_7_42_01‚ÄØPM-2687349630‚Äù because the volume ‚ÄúMacintosh HD‚Äù is out of space.\n",
      "2025-04-23 19:42:01.462 python[27272:13412586] Error creating directory \n",
      " The volume ‚ÄúMacintosh HD‚Äù is out of space. You can‚Äôt save the file ‚Äúmpsgraph-27272-2025-04-23_7_42_01‚ÄØPM-1530042043‚Äù because the volume ‚ÄúMacintosh HD‚Äù is out of space.\n",
      "2025-04-23 19:42:01.493 python[27272:13412586] Error creating directory \n",
      " The volume ‚ÄúMacintosh HD‚Äù is out of space. You can‚Äôt save the file ‚Äúmpsgraph-27272-2025-04-23_7_42_01‚ÄØPM-3534931436‚Äù because the volume ‚ÄúMacintosh HD‚Äù is out of space.\n",
      "2025-04-23 19:42:01.497 python[27272:13412586] Error creating directory \n",
      " The volume ‚ÄúMacintosh HD‚Äù is out of space. You can‚Äôt save the file ‚Äúmpsgraph-27272-2025-04-23_7_42_01‚ÄØPM-1780161801‚Äù because the volume ‚ÄúMacintosh HD‚Äù is out of space.\n",
      "2025-04-23 19:42:01.502 python[27272:13412586] Error creating directory \n",
      " The volume ‚ÄúMacintosh HD‚Äù is out of space. You can‚Äôt save the file ‚Äúmpsgraph-27272-2025-04-23_7_42_01‚ÄØPM-2735561751‚Äù because the volume ‚ÄúMacintosh HD‚Äù is out of space.\n",
      "2025-04-23 19:42:01.506 python[27272:13412586] Error creating directory \n",
      " The volume ‚ÄúMacintosh HD‚Äù is out of space. You can‚Äôt save the file ‚Äúmpsgraph-27272-2025-04-23_7_42_01‚ÄØPM-140375247‚Äù because the volume ‚ÄúMacintosh HD‚Äù is out of space.\n",
      "2025-04-23 19:42:01.539 python[27272:13412586] Error creating directory \n",
      " The volume ‚ÄúMacintosh HD‚Äù is out of space. You can‚Äôt save the file ‚Äúmpsgraph-27272-2025-04-23_7_42_01‚ÄØPM-2341921553‚Äù because the volume ‚ÄúMacintosh HD‚Äù is out of space.\n",
      "2025-04-23 19:42:01.544 python[27272:13412586] Error creating directory \n",
      " The volume ‚ÄúMacintosh HD‚Äù is out of space. You can‚Äôt save the file ‚Äúmpsgraph-27272-2025-04-23_7_42_01‚ÄØPM-1542002104‚Äù because the volume ‚ÄúMacintosh HD‚Äù is out of space.\n",
      "2025-04-23 19:42:01.549 python[27272:13412586] Error creating directory \n",
      " The volume ‚ÄúMacintosh HD‚Äù is out of space. You can‚Äôt save the file ‚Äúmpsgraph-27272-2025-04-23_7_42_01‚ÄØPM-3114397166‚Äù because the volume ‚ÄúMacintosh HD‚Äù is out of space.\n",
      "2025-04-23 19:42:01.553 python[27272:13412586] Error creating directory \n",
      " The volume ‚ÄúMacintosh HD‚Äù is out of space. You can‚Äôt save the file ‚Äúmpsgraph-27272-2025-04-23_7_42_01‚ÄØPM-3301022685‚Äù because the volume ‚ÄúMacintosh HD‚Äù is out of space.\n",
      "2025-04-23 19:42:01.587 python[27272:13412586] Error creating directory \n",
      " The volume ‚ÄúMacintosh HD‚Äù is out of space. You can‚Äôt save the file ‚Äúmpsgraph-27272-2025-04-23_7_42_01‚ÄØPM-4206448391‚Äù because the volume ‚ÄúMacintosh HD‚Äù is out of space.\n",
      "2025-04-23 19:42:01.591 python[27272:13412586] Error creating directory \n",
      " The volume ‚ÄúMacintosh HD‚Äù is out of space. You can‚Äôt save the file ‚Äúmpsgraph-27272-2025-04-23_7_42_01‚ÄØPM-3236969341‚Äù because the volume ‚ÄúMacintosh HD‚Äù is out of space.\n",
      "2025-04-23 19:42:01.596 python[27272:13412586] Error creating directory \n",
      " The volume ‚ÄúMacintosh HD‚Äù is out of space. You can‚Äôt save the file ‚Äúmpsgraph-27272-2025-04-23_7_42_01‚ÄØPM-1562912912‚Äù because the volume ‚ÄúMacintosh HD‚Äù is out of space.\n",
      "2025-04-23 19:42:01.601 python[27272:13412586] Error creating directory \n",
      " The volume ‚ÄúMacintosh HD‚Äù is out of space. You can‚Äôt save the file ‚Äúmpsgraph-27272-2025-04-23_7_42_01‚ÄØPM-3364518992‚Äù because the volume ‚ÄúMacintosh HD‚Äù is out of space.\n",
      "2025-04-23 19:42:01.634 python[27272:13412586] Error creating directory \n",
      " The volume ‚ÄúMacintosh HD‚Äù is out of space. You can‚Äôt save the file ‚Äúmpsgraph-27272-2025-04-23_7_42_01‚ÄØPM-980795065‚Äù because the volume ‚ÄúMacintosh HD‚Äù is out of space.\n",
      "2025-04-23 19:42:01.639 python[27272:13412586] Error creating directory \n",
      " The volume ‚ÄúMacintosh HD‚Äù is out of space. You can‚Äôt save the file ‚Äúmpsgraph-27272-2025-04-23_7_42_01‚ÄØPM-4040846481‚Äù because the volume ‚ÄúMacintosh HD‚Äù is out of space.\n",
      "2025-04-23 19:42:01.644 python[27272:13412586] Error creating directory \n",
      " The volume ‚ÄúMacintosh HD‚Äù is out of space. You can‚Äôt save the file ‚Äúmpsgraph-27272-2025-04-23_7_42_01‚ÄØPM-3306458343‚Äù because the volume ‚ÄúMacintosh HD‚Äù is out of space.\n",
      "2025-04-23 19:42:01.650 python[27272:13412586] Error creating directory \n",
      " The volume ‚ÄúMacintosh HD‚Äù is out of space. You can‚Äôt save the file ‚Äúmpsgraph-27272-2025-04-23_7_42_01‚ÄØPM-4287984044‚Äù because the volume ‚ÄúMacintosh HD‚Äù is out of space.\n",
      "2025-04-23 19:42:01.684 python[27272:13412586] Error creating directory \n",
      " The volume ‚ÄúMacintosh HD‚Äù is out of space. You can‚Äôt save the file ‚Äúmpsgraph-27272-2025-04-23_7_42_01‚ÄØPM-3655890420‚Äù because the volume ‚ÄúMacintosh HD‚Äù is out of space.\n",
      "2025-04-23 19:42:01.688 python[27272:13412586] Error creating directory \n",
      " The volume ‚ÄúMacintosh HD‚Äù is out of space. You can‚Äôt save the file ‚Äúmpsgraph-27272-2025-04-23_7_42_01‚ÄØPM-1019941381‚Äù because the volume ‚ÄúMacintosh HD‚Äù is out of space.\n",
      "2025-04-23 19:42:01.692 python[27272:13412586] Error creating directory \n",
      " The volume ‚ÄúMacintosh HD‚Äù is out of space. You can‚Äôt save the file ‚Äúmpsgraph-27272-2025-04-23_7_42_01‚ÄØPM-3728170895‚Äù because the volume ‚ÄúMacintosh HD‚Äù is out of space.\n",
      "2025-04-23 19:42:01.696 python[27272:13412586] Error creating directory \n",
      " The volume ‚ÄúMacintosh HD‚Äù is out of space. You can‚Äôt save the file ‚Äúmpsgraph-27272-2025-04-23_7_42_01‚ÄØPM-2322509815‚Äù because the volume ‚ÄúMacintosh HD‚Äù is out of space.\n"
     ]
    }
   ],
   "source": [
    "import gradio as gr\n",
    "import transformers\n",
    "from transformers import pipeline\n",
    "from transformers import BertTokenizerFast, BertForQuestionAnswering, TrainingArguments, Trainer\n",
    "from transformers import AutoTokenizer, AutoModelForSeq2SeqLM, Seq2SeqTrainer, Seq2SeqTrainingArguments\n",
    "from transformers import MT5ForConditionalGeneration, MT5Tokenizer\n",
    "import pandas as pd\n",
    "import numpy as np\n",
    "import torch\n",
    "from bs4 import BeautifulSoup\n",
    "from datasets import Dataset\n",
    "import re\n",
    "\n",
    "model_path = \"./mt5-base-9038-8624\"\n",
    "\n",
    "tokenizer = AutoTokenizer.from_pretrained(model_path)\n",
    "model = AutoModelForSeq2SeqLM.from_pretrained(model_path)\n",
    "qa_pipeline = pipeline(\"text2text-generation\", model=model, tokenizer=tokenizer)\n",
    "\n",
    "def clean_html_tags(html_text):\n",
    "    soup = BeautifulSoup(html_text, 'html.parser')\n",
    "    for tag in soup([\"script\", \"style\"]):\n",
    "        tag.decompose()\n",
    "    return soup.get_text(separator=\"\\n\", strip=True)\n",
    "\n",
    "# 构造输入输出\n",
    "def text_to_input(text):\n",
    "    context = clean_html_tags(text)\n",
    "    prompt = (\n",
    "        \"Extract the salary info from the job ad below and return it as: \"\n",
    "        \"\\\"MinimumSalary MaximumSalary Currency PayPeriod\\\"\\n\\n\"\n",
    "    )\n",
    "    input_text = prompt + context\n",
    "    \n",
    "    return {\"input\": input_text}\n",
    "  \n",
    "def generate_prediction(text):\n",
    "    input_text = text_to_input(text)[\"input\"]\n",
    "    output = qa_pipeline(input_text)\n",
    "    predict = output[0][\"generated_text\"].strip()\n",
    "\n",
    "    # 匹配格式：数字 数字 字母 字母\n",
    "    pattern = r\"^(\\d+(?:\\.\\d+)?)\\s+(\\d+(?:\\.\\d+)?)\\s+([A-Za-z]+)\\s+([A-Za-z]+)$\"\n",
    "    match = re.match(pattern, predict)\n",
    "\n",
    "    if match:\n",
    "        min_pred, max_pred, currency_pred, period_pred = match.groups()\n",
    "        # 四舍五入并转为整数\n",
    "        min_pred = str(round(float(min_pred)))\n",
    "        max_pred = str(round(float(max_pred)))\n",
    "        return f\"{min_pred}-{max_pred}-{currency_pred}-{period_pred}\"\n",
    "    else:\n",
    "        return \"0-0-None-None\"\n",
    "\n",
    "\n",
    "demo = gr.Interface(fn=generate_prediction, inputs=\"text\", outputs=\"text\")\n",
    "demo.launch(share=True)\n",
    "# input ='''\n",
    "# TEAM SALE Description NURRIFA RICH SDN BHD merupakan sebuah syarikat komersial dalam industri produk kesihatan sejak 2018 dan telah mencetuskan evolusi dalam bidang jamu moden dengan mengkomersialkan idea makanan kesihatan berbentuk pastil gula-gula halal pertama di Malaysia. Berpengkalan di Kuala Terengganu dan memiliki pasukan Team Sales yang mampu menghasilkan ratusan ribu sebulan di bawah bimbingan syarikat. Untuk info lebih lanjut boleh rujuk kepada FB kami Nurrifa HQ @ www.nurrifa.com. . SKOP KERJA: 1) Membantu bakal pelanggan membuat pembelian produk syarikat melalui Whatsapp/FB/IG dan CALL. 2) Follow Up pelanggan. 3) Update Media Sosial syarikat. . SYARAT KELAYAKAN: • Perempuan& Lelaki • Berumur 18-28 tahun. • Mempunyai skill komunikasi yang bagus. • Penampilan yang menarik. . KELEBIHAN: (RM1500-RM5000 sebulan) • Elaun Asas • Elaun Telco • Komisen Lumayan • Reward Bulanan • BONUS jika capai KPI • Suasana kerja yang selesa • Circle yang positif • Latihan jualan disediakan - Parking Percuma Company MENJUAL PRODUK KESIHATAN\n",
    "# '''\n",
    "\n",
    "# output = generate_prediction(input)\n",
    "\n",
    "# print(output)"
   ]
  }
 ],
 "metadata": {
  "kernelspec": {
   "display_name": "venv",
   "language": "python",
   "name": "python3"
  },
  "language_info": {
   "codemirror_mode": {
    "name": "ipython",
    "version": 3
   },
   "file_extension": ".py",
   "mimetype": "text/x-python",
   "name": "python",
   "nbconvert_exporter": "python",
   "pygments_lexer": "ipython3",
   "version": "3.11.8"
  }
 },
 "nbformat": 4,
 "nbformat_minor": 2
}
